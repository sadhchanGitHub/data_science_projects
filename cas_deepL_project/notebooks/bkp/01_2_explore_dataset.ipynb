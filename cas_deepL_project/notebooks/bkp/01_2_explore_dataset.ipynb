{
 "cells": [
  {
   "cell_type": "markdown",
   "id": "914584c2-389e-4bf3-aef0-21e7a5b35960",
   "metadata": {},
   "source": [
    "### define directories"
   ]
  },
  {
   "cell_type": "code",
   "execution_count": 2,
   "id": "0cc32809-23bc-4e5d-bc89-ad33539f52cf",
   "metadata": {},
   "outputs": [],
   "source": [
    "\n",
    "# Paths\n",
    "dataset_path = \"../data/selected_categories/EuroSAT\"\n",
    "test_data_path = \"../data/test_data\"\n",
    "preprocessed_dir = \"../data/preprocessed_data\"\n",
    "categories = [\"Forest\", \"Residential\", \"Highway\", \"AnnualCrop\", \"HerbaceousVegetation\", \"Industrial\"]\n",
    "image_size = 128  # Resize to 128x128\n"
   ]
  },
  {
   "cell_type": "code",
   "execution_count": 3,
   "id": "a80d53b6-bbc2-4280-a831-416663d2b3c3",
   "metadata": {},
   "outputs": [
    {
     "name": "stdout",
     "output_type": "stream",
     "text": [
      "Train data: (10880, 128, 128, 3) (10880,)\n",
      "Validation data: (2720, 128, 128, 3) (2720,)\n",
      "Test data: (3400, 128, 128, 3) (3400,)\n"
     ]
    }
   ],
   "source": [
    "import numpy as np\n",
    "\n",
    "X_train = np.load(f\"{preprocessed_dir}/train.npy\")\n",
    "y_train = np.load(f\"{preprocessed_dir}/train_labels.npy\")\n",
    "print(\"Train data:\", X_train.shape, y_train.shape)\n",
    "\n",
    "X_val = np.load(f\"{preprocessed_dir}/val.npy\")\n",
    "y_val = np.load(f\"{preprocessed_dir}/val_labels.npy\")\n",
    "print(\"Validation data:\", X_val.shape, y_val.shape)\n",
    "\n",
    "X_test = np.load(f\"{preprocessed_dir}/test.npy\")\n",
    "y_test = np.load(f\"{preprocessed_dir}/test_labels.npy\")\n",
    "print(\"Test data:\", X_test.shape, y_test.shape)\n"
   ]
  },
  {
   "cell_type": "code",
   "execution_count": 4,
   "id": "e336fba2-b003-4f7a-94a2-003a0cc07736",
   "metadata": {},
   "outputs": [
    {
     "name": "stdout",
     "output_type": "stream",
     "text": [
      "y_train shape: (10880,)\n",
      "Sample y_train values: [0 0 0 0 0]\n"
     ]
    }
   ],
   "source": [
    "import numpy as np\n",
    "\n",
    "\n",
    "print(\"y_train shape:\", y_train.shape)\n",
    "print(\"Sample y_train values:\", y_train[:5])\n"
   ]
  },
  {
   "cell_type": "code",
   "execution_count": 6,
   "id": "7fcb27d2-767a-4fd7-8c20-40d889cf0864",
   "metadata": {},
   "outputs": [
    {
     "name": "stderr",
     "output_type": "stream",
     "text": [
      "[ WARN:0@0.777] global loadsave.cpp:241 findDecoder imread_('../data/selected_categories/Highway_70.jpg'): can't open/read file: check file path/integrity\n"
     ]
    },
    {
     "ename": "error",
     "evalue": "OpenCV(4.10.0) /io/opencv/modules/imgproc/src/color.cpp:196: error: (-215:Assertion failed) !_src.empty() in function 'cvtColor'\n",
     "output_type": "error",
     "traceback": [
      "\u001b[0;31m---------------------------------------------------------------------------\u001b[0m",
      "\u001b[0;31merror\u001b[0m                                     Traceback (most recent call last)",
      "Cell \u001b[0;32mIn[6], line 9\u001b[0m\n\u001b[1;32m      7\u001b[0m \u001b[38;5;66;03m# Load the image\u001b[39;00m\n\u001b[1;32m      8\u001b[0m image \u001b[38;5;241m=\u001b[39m cv2\u001b[38;5;241m.\u001b[39mimread(file_path)\n\u001b[0;32m----> 9\u001b[0m image \u001b[38;5;241m=\u001b[39m \u001b[43mcv2\u001b[49m\u001b[38;5;241;43m.\u001b[39;49m\u001b[43mcvtColor\u001b[49m\u001b[43m(\u001b[49m\u001b[43mimage\u001b[49m\u001b[43m,\u001b[49m\u001b[43m \u001b[49m\u001b[43mcv2\u001b[49m\u001b[38;5;241;43m.\u001b[39;49m\u001b[43mCOLOR_BGR2RGB\u001b[49m\u001b[43m)\u001b[49m  \u001b[38;5;66;03m# Convert to RGB for visualization\u001b[39;00m\n\u001b[1;32m     11\u001b[0m \u001b[38;5;66;03m# Display the image\u001b[39;00m\n\u001b[1;32m     12\u001b[0m plt\u001b[38;5;241m.\u001b[39mimshow(image)\n",
      "\u001b[0;31merror\u001b[0m: OpenCV(4.10.0) /io/opencv/modules/imgproc/src/color.cpp:196: error: (-215:Assertion failed) !_src.empty() in function 'cvtColor'\n"
     ]
    }
   ],
   "source": [
    "import cv2\n",
    "import matplotlib.pyplot as plt\n",
    "\n",
    "# File path (replace with an actual path to your image)\n",
    "file_path = \"../data/selected_categories/Highway_70.jpg\"\n",
    "\n",
    "# Load the image\n",
    "image = cv2.imread(file_path)\n",
    "image = cv2.cvtColor(image, cv2.COLOR_BGR2RGB)  # Convert to RGB for visualization\n",
    "\n",
    "# Display the image\n",
    "plt.imshow(image)\n",
    "plt.title(\"Image Content\")\n",
    "plt.axis(\"off\")\n",
    "plt.show()\n"
   ]
  },
  {
   "cell_type": "code",
   "execution_count": null,
   "id": "f0fd5223-7ded-4bc5-8ec4-b3ef3bcc036f",
   "metadata": {},
   "outputs": [],
   "source": []
  }
 ],
 "metadata": {
  "kernelspec": {
   "display_name": "Python (deepL_venv)",
   "language": "python",
   "name": "venv"
  },
  "language_info": {
   "codemirror_mode": {
    "name": "ipython",
    "version": 3
   },
   "file_extension": ".py",
   "mimetype": "text/x-python",
   "name": "python",
   "nbconvert_exporter": "python",
   "pygments_lexer": "ipython3",
   "version": "3.10.15"
  }
 },
 "nbformat": 4,
 "nbformat_minor": 5
}
