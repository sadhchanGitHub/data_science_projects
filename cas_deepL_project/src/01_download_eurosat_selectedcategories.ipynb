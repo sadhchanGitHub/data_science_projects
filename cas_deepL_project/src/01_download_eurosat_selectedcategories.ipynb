{
 "cells": [
  {
   "cell_type": "code",
   "execution_count": 1,
   "id": "cdf498a4-3559-4a4e-80a4-545b6bdb661c",
   "metadata": {},
   "outputs": [
    {
     "name": "stdout",
     "output_type": "stream",
     "text": [
      "Extracted categories: ['Forest', 'Residential', 'Highway', 'AnnualCrop', 'HerbaceousVegetation', 'Industrial']\n"
     ]
    }
   ],
   "source": [
    "import zipfile\n",
    "import os\n",
    "\n",
    "# Path to the dataset ZIP file\n",
    "zip_path = \"../data/eurosat-dataset.zip\"\n",
    "extract_path = \"../data/selected_categories\"\n",
    "categories_to_extract = [\"Forest\", \"Residential\", \"Highway\", \"AnnualCrop\", \"HerbaceousVegetation\", \"Industrial\"]\n",
    "\n",
    "# Open the zip file\n",
    "with zipfile.ZipFile(zip_path, 'r') as z:\n",
    "    # Iterate through all files\n",
    "    for file in z.namelist():\n",
    "        # Check if the file belongs to selected categories\n",
    "        if any(category in file for category in categories_to_extract):\n",
    "            z.extract(file, extract_path)\n",
    "\n",
    "print(f\"Extracted categories: {categories_to_extract}\")\n"
   ]
  },
  {
   "cell_type": "code",
   "execution_count": 5,
   "id": "51e293ac-717d-4b38-9f6c-ea1f430403a3",
   "metadata": {},
   "outputs": [
    {
     "name": "stdout",
     "output_type": "stream",
     "text": [
      "EuroSAT Directory: ../data/selected_categories/EuroSAT\n",
      "EuroSATallBands Directory: ../data/selected_categories/EuroSATallBands\n",
      "\n",
      "Checking Category: Forest\n",
      "EuroSAT Path: ../data/selected_categories/EuroSAT/Forest\n",
      "EuroSATallBands Path: ../data/selected_categories/EuroSATallBands/Forest\n",
      "EuroSAT: 3000 files\n",
      "EuroSATallBands: 3000 files\n",
      "\n",
      "Checking Category: Residential\n",
      "EuroSAT Path: ../data/selected_categories/EuroSAT/Residential\n",
      "EuroSATallBands Path: ../data/selected_categories/EuroSATallBands/Residential\n",
      "EuroSAT: 3000 files\n",
      "EuroSATallBands: 3000 files\n",
      "\n",
      "Checking Category: Highway\n",
      "EuroSAT Path: ../data/selected_categories/EuroSAT/Highway\n",
      "EuroSATallBands Path: ../data/selected_categories/EuroSATallBands/Highway\n",
      "EuroSAT: 2500 files\n",
      "EuroSATallBands: 2500 files\n",
      "\n",
      "Checking Category: AnnualCrop\n",
      "EuroSAT Path: ../data/selected_categories/EuroSAT/AnnualCrop\n",
      "EuroSATallBands Path: ../data/selected_categories/EuroSATallBands/AnnualCrop\n",
      "EuroSAT: 3000 files\n",
      "EuroSATallBands: 3000 files\n",
      "\n",
      "Checking Category: HerbaceousVegetation\n",
      "EuroSAT Path: ../data/selected_categories/EuroSAT/HerbaceousVegetation\n",
      "EuroSATallBands Path: ../data/selected_categories/EuroSATallBands/HerbaceousVegetation\n",
      "EuroSAT: 3000 files\n",
      "EuroSATallBands: 3000 files\n",
      "\n",
      "Checking Category: Industrial\n",
      "EuroSAT Path: ../data/selected_categories/EuroSAT/Industrial\n",
      "EuroSATallBands Path: ../data/selected_categories/EuroSATallBands/Industrial\n",
      "EuroSAT: 2500 files\n",
      "EuroSATallBands: 2500 files\n"
     ]
    }
   ],
   "source": [
    "import os\n",
    "\n",
    "categories = [\"Forest\", \"Residential\", \"Highway\", \"AnnualCrop\", \"HerbaceousVegetation\", \"Industrial\"]\n",
    "\n",
    "base_dir = \"../data/selected_categories\"  # Adjust this path if needed\n",
    "euroSAT_dir = os.path.join(base_dir, \"EuroSAT\")\n",
    "euroSATallBands_dir = os.path.join(base_dir, \"EuroSATallBands\")\n",
    "\n",
    "print(f\"EuroSAT Directory: {euroSAT_dir}\")\n",
    "print(f\"EuroSATallBands Directory: {euroSATallBands_dir}\")\n",
    "\n",
    "for category in categories:\n",
    "    euroSAT_path = os.path.join(euroSAT_dir, category)\n",
    "    euroSATallBands_path = os.path.join(euroSATallBands_dir, category)\n",
    "    \n",
    "    print(f\"\\nChecking Category: {category}\")\n",
    "    print(f\"EuroSAT Path: {euroSAT_path}\")\n",
    "    print(f\"EuroSATallBands Path: {euroSATallBands_path}\")\n",
    "    \n",
    "    euroSAT_count = len(os.listdir(euroSAT_path)) if os.path.exists(euroSAT_path) else 0\n",
    "    euroSATallBands_count = len(os.listdir(euroSATallBands_path)) if os.path.exists(euroSATallBands_path) else 0\n",
    "    \n",
    "    print(f\"EuroSAT: {euroSAT_count} files\")\n",
    "    print(f\"EuroSATallBands: {euroSATallBands_count} files\")\n"
   ]
  },
  {
   "cell_type": "code",
   "execution_count": null,
   "id": "90811354-f6ca-4047-8356-0cf228f7b904",
   "metadata": {},
   "outputs": [],
   "source": []
  }
 ],
 "metadata": {
  "kernelspec": {
   "display_name": "Python (deepL_venv)",
   "language": "python",
   "name": "venv"
  },
  "language_info": {
   "codemirror_mode": {
    "name": "ipython",
    "version": 3
   },
   "file_extension": ".py",
   "mimetype": "text/x-python",
   "name": "python",
   "nbconvert_exporter": "python",
   "pygments_lexer": "ipython3",
   "version": "3.10.15"
  }
 },
 "nbformat": 4,
 "nbformat_minor": 5
}
