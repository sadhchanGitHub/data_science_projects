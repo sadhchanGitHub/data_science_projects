{
 "cells": [
  {
   "cell_type": "code",
   "execution_count": 8,
   "id": "315d7c18-a0c0-49d6-b0f8-f7ae1a572d0e",
   "metadata": {},
   "outputs": [
    {
     "name": "stdout",
     "output_type": "stream",
     "text": [
      "Loaded masks: (123360, 257, 21)\n",
      "Error during processing: Unable to allocate 30.1 GiB for an array with shape (123360, 512, 512) and data type int8\n"
     ]
    }
   ],
   "source": [
    "import numpy as np\n",
    "import os\n",
    "import cv2\n",
    "\n",
    "def process_and_resize_masks_to_npy(input_path, output_path, target_size=(512, 512), chunk_size=1000):\n",
    "    \"\"\"\n",
    "    Process masks to binary format, resize them, and save in standard .npy format.\n",
    "    \n",
    "    Parameters:\n",
    "    - input_path: Path to the input mask file\n",
    "    - output_path: Path to save the processed mask file\n",
    "    - target_size: Desired mask dimensions (height, width).\n",
    "    - chunk_size: Number of slices to process at a time.\n",
    "    \"\"\"\n",
    "    try:\n",
    "        # Load input masks in memory-mapped mode\n",
    "        masks = np.load(input_path, mmap_mode=\"r\")\n",
    "        num_slices = masks.shape[0]\n",
    "        print(f\"Loaded masks: {masks.shape}\")\n",
    "\n",
    "        # Prepare an output array for resized masks\n",
    "        resized_masks = np.zeros((num_slices, *target_size), dtype=\"int8\")\n",
    "        \n",
    "        # Process in chunks\n",
    "        for start_idx in range(0, num_slices, chunk_size):\n",
    "            end_idx = min(start_idx + chunk_size, num_slices)\n",
    "            chunk = masks[start_idx:end_idx]  # Load a chunk\n",
    "            \n",
    "            for i, mask in enumerate(chunk):\n",
    "                binary_mask = np.where(mask > 0, 1, 0).astype(\"int8\")  # Convert to binary\n",
    "                resized_masks[start_idx + i] = cv2.resize(\n",
    "                    binary_mask, target_size[::-1], interpolation=cv2.INTER_NEAREST\n",
    "                )\n",
    "            print(f\"Processed and resized slices {start_idx} to {end_idx - 1}\")\n",
    "\n",
    "        # Save the processed binary masks as a standard .npy file\n",
    "        np.save(output_path, resized_masks)\n",
    "        print(f\"Resized binary masks saved successfully to {output_path}\")\n",
    "\n",
    "        # Validate the saved file\n",
    "        validation_masks = np.load(output_path)\n",
    "        print(f\"Validation - Shape of resized masks: {validation_masks.shape}\")\n",
    "        print(f\"Validation - Unique values in resized masks: {np.unique(validation_masks)}\")\n",
    "    \n",
    "    except Exception as e:\n",
    "        print(f\"Error during processing: {e}\")\n",
    "\n",
    "# Define paths\n",
    "input_mask_path = \"../data/training_data/val/Residential_val_masks_combined.npy\"\n",
    "output_resized_path = \"../data/training_data/val/Residential_val_masks_cleaned_resized.npy\"\n",
    "\n",
    "# Process and resize the masks\n",
    "process_and_resize_masks_to_npy(input_mask_path, output_resized_path)\n"
   ]
  },
  {
   "cell_type": "code",
   "execution_count": null,
   "id": "bf072ed1-73f4-4c0b-84db-02460fe94584",
   "metadata": {},
   "outputs": [],
   "source": []
  }
 ],
 "metadata": {
  "kernelspec": {
   "display_name": "Python (deepL_venv)",
   "language": "python",
   "name": "venv"
  },
  "language_info": {
   "codemirror_mode": {
    "name": "ipython",
    "version": 3
   },
   "file_extension": ".py",
   "mimetype": "text/x-python",
   "name": "python",
   "nbconvert_exporter": "python",
   "pygments_lexer": "ipython3",
   "version": "3.10.15"
  }
 },
 "nbformat": 4,
 "nbformat_minor": 5
}
