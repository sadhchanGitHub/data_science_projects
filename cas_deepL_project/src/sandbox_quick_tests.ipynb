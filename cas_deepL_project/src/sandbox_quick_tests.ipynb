{
 "cells": [
  {
   "cell_type": "code",
   "execution_count": 20,
   "id": "731ac589-ad31-4291-a9b6-61f5ca602788",
   "metadata": {},
   "outputs": [
    {
     "name": "stdout",
     "output_type": "stream",
     "text": [
      "The dimensions of the original EuroSAT image are: (64, 64, 3)\n"
     ]
    }
   ],
   "source": [
    "# original image size\n",
    "\n",
    "import cv2\n",
    "\n",
    "# Path to a sample EuroSAT image\n",
    "image_path = \"../data/selected_categories/EuroSAT/AnnualCrop/AnnualCrop_1538.jpg\"\n",
    "\n",
    "# Load the image using OpenCV\n",
    "sample_orig_eurosat_image = cv2.imread(image_path)\n",
    "\n",
    "# Get the dimensions of the image (height, width, channels)\n",
    "sample_orig_eurosat_image_size = sample_orig_eurosat_image.shape\n",
    "\n",
    "print(f\"The dimensions of the original EuroSAT image are: {sample_orig_eurosat_image_size}\")\n"
   ]
  },
  {
   "cell_type": "code",
   "execution_count": 21,
   "id": "6d32257e-55d0-47f1-9229-296a6388577a",
   "metadata": {},
   "outputs": [
    {
     "name": "stdout",
     "output_type": "stream",
     "text": [
      "The dimensions of the original image after resizing : (20, 256, 256, 3)\n"
     ]
    }
   ],
   "source": [
    "import numpy as np\n",
    "\n",
    "# Load the .npy file\n",
    "orig_image_resize = np.load(\"../data/preprocessed_data_imSize256/Residential_batch_55.npy\")\n",
    "\n",
    "# Get the shape of the array\n",
    "orig_image_resize_chk = orig_image_resize.shape\n",
    "\n",
    "print(f\"The dimensions of the original image after resizing : {orig_image_resize_chk}\")\n"
   ]
  },
  {
   "cell_type": "code",
   "execution_count": 33,
   "id": "253d6912-9c3f-46d1-8027-b613fd26bd0a",
   "metadata": {},
   "outputs": [
    {
     "name": "stdout",
     "output_type": "stream",
     "text": [
      "The dimensions of the original image after resizing : (257, 257, 21)\n"
     ]
    }
   ],
   "source": [
    "import numpy as np\n",
    "\n",
    "# Load the .npy file\n",
    "orig_image_resize = np.load(\"../data/segmentation_masks/Residential/test/mask_284.npy\")\n",
    "\n",
    "# Get the shape of the array\n",
    "orig_image_resize_chk = orig_image_resize.shape\n",
    "\n",
    "print(f\"The dimensions of the original image after resizing : {orig_image_resize_chk}\")\n"
   ]
  },
  {
   "cell_type": "code",
   "execution_count": 32,
   "id": "e911a475-3f1a-4c34-99b5-6d5e3eed789f",
   "metadata": {},
   "outputs": [
    {
     "name": "stdout",
     "output_type": "stream",
     "text": [
      "The dimensions of the original image after resizing : (257, 257)\n"
     ]
    }
   ],
   "source": [
    "import numpy as np\n",
    "\n",
    "# Load the .npy file\n",
    "orig_image_resize = np.load(\"../data/single_channel_masks/Residential/test/mask_284.npy\")\n",
    "\n",
    "# Get the shape of the array\n",
    "orig_image_resize_chk = orig_image_resize.shape\n",
    "\n",
    "print(f\"The dimensions of the original image after resizing : {orig_image_resize_chk}\")\n"
   ]
  },
  {
   "cell_type": "raw",
   "id": "dd2ad46a-05a7-4177-8fa2-2b4202831940",
   "metadata": {},
   "source": [
    "import numpy as np\n",
    "\n",
    "# Load the .npy file\n",
    "training_data_input_image_npy = np.load(\"../data/training_data/train/AnnualCrop_train.npy\")\n",
    "\n",
    "# Get the shape of the array\n",
    "training_data_input_image_npy_chk = training_data_input_image_npy.shape\n",
    "\n",
    "print(f\"The dimensions of the original image after resizing : {training_data_input_image_npy_chk}\")\n"
   ]
  },
  {
   "cell_type": "code",
   "execution_count": null,
   "id": "b7372190-bfde-4919-9dab-1fa6ffd14246",
   "metadata": {},
   "outputs": [],
   "source": []
  },
  {
   "cell_type": "code",
   "execution_count": 22,
   "id": "1152c395-00cd-475c-8a47-fb4b132d755d",
   "metadata": {},
   "outputs": [
    {
     "name": "stdout",
     "output_type": "stream",
     "text": [
      "The dimensions of the segmented mask are: (257, 257, 21)\n"
     ]
    }
   ],
   "source": [
    "import numpy as np\n",
    "\n",
    "# Load the .npy file\n",
    "sample_segmented_mask = np.load(\"../data/segmentation_masks/AnnualCrop/train/mask_999.npy\")\n",
    "\n",
    "# Get the shape of the array\n",
    "sample_segmented_mask_image_size = sample_segmented_mask.shape\n",
    "\n",
    "print(f\"The dimensions of the segmented mask are: {sample_segmented_mask_image_size}\")\n"
   ]
  },
  {
   "cell_type": "code",
   "execution_count": 28,
   "id": "8ddc3702-5c42-4189-b5d1-3a6fda00018a",
   "metadata": {},
   "outputs": [
    {
     "name": "stdout",
     "output_type": "stream",
     "text": [
      "The dimensions of the segmented multi-channel mask are: (257, 257, 21)\n"
     ]
    }
   ],
   "source": [
    "import numpy as np\n",
    "\n",
    "# Load the .npy file\n",
    "sample_segmented_multichannel_mask = np.load(\"../data/segmentation_masks/Residential/test/mask_585.npy\")\n",
    "\n",
    "# Get the shape of the array\n",
    "sample_segmented_mask_multichannel_mask_image_size = sample_segmented_multichannel_mask.shape\n",
    "\n",
    "print(f\"The dimensions of the segmented multi-channel mask are: {sample_segmented_mask_multichannel_mask_image_size}\")\n"
   ]
  },
  {
   "cell_type": "code",
   "execution_count": 30,
   "id": "18d7d86e-4ec4-40f9-901f-29fdf1ea8488",
   "metadata": {},
   "outputs": [
    {
     "name": "stdout",
     "output_type": "stream",
     "text": [
      "The dimensions of the segmented single-channel mask are: (257, 257)\n"
     ]
    }
   ],
   "source": [
    "import numpy as np\n",
    "\n",
    "# Load the .npy file\n",
    "sample_segmented_mask_singlechannel_mask = np.load(\"../data/single_channel_masks/Residential/test/binary_mask_585.npy\")\n",
    "\n",
    "# Get the shape of the array\n",
    "sample_segmented_mask_singlechannel_mask_image_size = sample_segmented_mask_singlechannel_mask.shape\n",
    "\n",
    "print(f\"The dimensions of the segmented single-channel mask are: {sample_segmented_mask_singlechannel_mask_image_size}\")\n"
   ]
  },
  {
   "cell_type": "code",
   "execution_count": 11,
   "id": "add30191-f447-4d56-881d-ba2c8aec8624",
   "metadata": {},
   "outputs": [
    {
     "name": "stdout",
     "output_type": "stream",
     "text": [
      "The dimensions of the segmented mask after resize are: (20, 513, 513, 21)\n"
     ]
    }
   ],
   "source": [
    "import numpy as np\n",
    "\n",
    "# Load the .npy file\n",
    "sample_segmented_mask_after_reSize = np.load(\"../data/resized_masks_513/AnnualCrop/train/batch_0.npy\")\n",
    "\n",
    "# Get the shape of the array\n",
    "sample_segmented_mask_after_reSize_chk = sample_segmented_mask_after_reSize.shape\n",
    "\n",
    "print(f\"The dimensions of the segmented mask after resize are: {sample_segmented_mask_after_reSize_chk}\")\n"
   ]
  },
  {
   "cell_type": "code",
   "execution_count": 3,
   "id": "80a90324-28af-4829-8e6f-757ea916fece",
   "metadata": {},
   "outputs": [
    {
     "name": "stdout",
     "output_type": "stream",
     "text": [
      "The dimensions of the reSizedsegmented_mask_SingleChannel are: (480, 256, 256, 3)\n"
     ]
    }
   ],
   "source": [
    "import numpy as np\n",
    "\n",
    "# Load the .npy file\n",
    "sample_reSizedsegmented_mask_SingleChannel = np.load(\"../data/training_data/AnnualCrop_val.npy\")\n",
    "\n",
    "# Get the shape of the array\n",
    "sample_reSizedsegmented_mask_SingleChannel_chk = sample_reSizedsegmented_mask_SingleChannel.shape\n",
    "\n",
    "print(f\"The dimensions of the reSizedsegmented_mask_SingleChannel are: {sample_reSizedsegmented_mask_SingleChannel_chk}\")\n"
   ]
  },
  {
   "cell_type": "code",
   "execution_count": 37,
   "id": "41a669b2-f8e5-4e0a-9607-bb87d6ad23fc",
   "metadata": {},
   "outputs": [
    {
     "name": "stdout",
     "output_type": "stream",
     "text": [
      "The dimensions of the reSizedsegmented_mask_SingleChannel are: (1901, 256, 256)\n"
     ]
    }
   ],
   "source": [
    "import numpy as np\n",
    "\n",
    "# Load the .npy file\n",
    "sample_reSizedsegmented_mask_SingleChannel = np.load(\"../data/training_data/AnnualCrop_train_masks_combined.npy\")\n",
    "\n",
    "# Get the shape of the array\n",
    "sample_reSizedsegmented_mask_SingleChannel_chk = sample_reSizedsegmented_mask_SingleChannel.shape\n",
    "\n",
    "print(f\"The dimensions of the reSizedsegmented_mask_SingleChannel are: {sample_reSizedsegmented_mask_SingleChannel_chk}\")\n"
   ]
  },
  {
   "cell_type": "code",
   "execution_count": 17,
   "id": "f71fc0a7-0990-4677-9199-0ad5de3587b4",
   "metadata": {},
   "outputs": [
    {
     "data": {
      "image/png": "[encoded data removed]",
      "text/plain": [
       "<Figure size 640x480 with 1 Axes>"
      ]
     },
     "metadata": {},
     "output_type": "display_data"
    }
   ],
   "source": [
    "import matplotlib.pyplot as plt\n",
    "import numpy as np\n",
    "\n",
    "# Load the .npy file (batch of masks)\n",
    "sample_segmented_mask_after_reSize = np.load(\"../data/resized_masks_513/AnnualCrop/train/batch_0.npy\")\n",
    "\n",
    "# Select a single mask from the batch (e.g., the first mask)\n",
    "single_mask = sample_segmented_mask_after_reSize[0]  # Shape: (513, 513, 21)\n",
    "\n",
    "# Convert the multi-channel mask to single-channel using np.argmax\n",
    "single_channel_mask = np.argmax(single_mask, axis=-1)  # Shape: (513, 513)\n",
    "\n",
    "# Visualize the single-channel mask\n",
    "plt.imshow(single_channel_mask, cmap='jet')\n",
    "plt.title(\"Single-Channel Mask with Colormap\")\n",
    "plt.axis(\"off\")\n",
    "plt.show()\n"
   ]
  },
  {
   "cell_type": "code",
   "execution_count": null,
   "id": "e19855e1-2c67-4607-b623-b96f523bf4ca",
   "metadata": {},
   "outputs": [],
   "source": []
  }
 ],
 "metadata": {
  "kernelspec": {
   "display_name": "Python (deepL_venv)",
   "language": "python",
   "name": "venv"
  },
  "language_info": {
   "codemirror_mode": {
    "name": "ipython",
    "version": 3
   },
   "file_extension": ".py",
   "mimetype": "text/x-python",
   "name": "python",
   "nbconvert_exporter": "python",
   "pygments_lexer": "ipython3",
   "version": "3.10.15"
  }
 },
 "nbformat": 4,
 "nbformat_minor": 5
}
