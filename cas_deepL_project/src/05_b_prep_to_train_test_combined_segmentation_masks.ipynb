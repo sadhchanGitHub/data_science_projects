{
 "cells": [
  {
   "cell_type": "code",
   "execution_count": 4,
   "id": "7954cdd2-956f-4e2e-b0b4-321adaedafff",
   "metadata": {},
   "outputs": [
    {
     "name": "stdout",
     "output_type": "stream",
     "text": [
      "Loaded images: (1920, 256, 256, 3)\n",
      "Loaded combined masks: (1901, 256, 256)\n",
      "Number of individual masks found: 221\n",
      "Image 1538: Shape=(256, 256, 3), Min=0.18431372940540314, Max=0.8196078538894653\n"
     ]
    },
    {
     "ename": "IndexError",
     "evalue": "list index out of range",
     "output_type": "error",
     "traceback": [
      "\u001b[0;31m---------------------------------------------------------------------------\u001b[0m",
      "\u001b[0;31mIndexError\u001b[0m                                Traceback (most recent call last)",
      "Cell \u001b[0;32mIn[4], line 47\u001b[0m\n\u001b[1;32m     44\u001b[0m     original_image \u001b[38;5;241m=\u001b[39m (original_image \u001b[38;5;241m*\u001b[39m \u001b[38;5;241m255\u001b[39m)\u001b[38;5;241m.\u001b[39mastype(np\u001b[38;5;241m.\u001b[39muint8)\n\u001b[1;32m     46\u001b[0m \u001b[38;5;66;03m# Load the corresponding individual mask\u001b[39;00m\n\u001b[0;32m---> 47\u001b[0m individual_mask_path \u001b[38;5;241m=\u001b[39m \u001b[43mmask_files\u001b[49m\u001b[43m[\u001b[49m\u001b[43mi\u001b[49m\u001b[43m]\u001b[49m\n\u001b[1;32m     48\u001b[0m individual_mask \u001b[38;5;241m=\u001b[39m np\u001b[38;5;241m.\u001b[39mload(individual_mask_path)\n\u001b[1;32m     50\u001b[0m \u001b[38;5;28mprint\u001b[39m(\u001b[38;5;124mf\u001b[39m\u001b[38;5;124m\"\u001b[39m\u001b[38;5;124mIndividual Mask \u001b[39m\u001b[38;5;132;01m{\u001b[39;00mi\u001b[38;5;132;01m}\u001b[39;00m\u001b[38;5;124m: Shape=\u001b[39m\u001b[38;5;132;01m{\u001b[39;00mindividual_mask\u001b[38;5;241m.\u001b[39mshape\u001b[38;5;132;01m}\u001b[39;00m\u001b[38;5;124m, Min=\u001b[39m\u001b[38;5;132;01m{\u001b[39;00mindividual_mask\u001b[38;5;241m.\u001b[39mmin()\u001b[38;5;132;01m}\u001b[39;00m\u001b[38;5;124m, Max=\u001b[39m\u001b[38;5;132;01m{\u001b[39;00mindividual_mask\u001b[38;5;241m.\u001b[39mmax()\u001b[38;5;132;01m}\u001b[39;00m\u001b[38;5;124m\"\u001b[39m)\n",
      "\u001b[0;31mIndexError\u001b[0m: list index out of range"
     ]
    }
   ],
   "source": [
    "import os\n",
    "import numpy as np\n",
    "import matplotlib.pyplot as plt\n",
    "import cv2  # Ensure OpenCV is installed: pip install opencv-python\n",
    "import random\n",
    "\n",
    "# Paths\n",
    "category = \"AnnualCrop\"  # Change category as needed\n",
    "split = \"train\"  # Change split as needed (e.g., \"train\", \"val\", \"test\")\n",
    "training_dir = f\"../data/training_data/\" # Use f-string for substitution\n",
    "combined_masks_path = f\"../data/training_data/{category}_{split}_masks_combined.npy\"\n",
    "output_masks_dir = f\"../data/binary_masks/{category}\"  # Path to individual masks\n",
    "\n",
    "# Load images and combined masks\n",
    "image_path = os.path.join(training_dir, f\"{category}_{split}.npy\")\n",
    "if not os.path.exists(image_path):\n",
    "    print(f\"Image file not found at {image_path}\")\n",
    "    exit()\n",
    "images = np.load(image_path)\n",
    "\n",
    "print(f\"Loaded images: {images.shape}\")  # Debug images shape\n",
    "\n",
    "if os.path.exists(training_dir):\n",
    "    combined_masks = np.load(combined_masks_path)\n",
    "    print(f\"Loaded combined masks: {combined_masks.shape}\")  # Debug combined masks shape\n",
    "else:\n",
    "    print(f\"Combined masks file not found at {combined_masks_path}\")\n",
    "    exit()\n",
    "\n",
    "# Verify individual masks\n",
    "mask_files = sorted([os.path.join(output_masks_dir, \"train\", f) for f in os.listdir(os.path.join(output_masks_dir, \"train\")) if f.endswith('.npy')])\n",
    "print(f\"Number of individual masks found: {len(mask_files)}\")\n",
    "\n",
    "# Randomly sample 5 indices\n",
    "sample_indices = random.sample(range(len(images)), 5)\n",
    "\n",
    "for i in sample_indices:\n",
    "    # Load the original image\n",
    "    original_image = images[i]\n",
    "\n",
    "    # Debug original image\n",
    "    print(f\"Image {i}: Shape={original_image.shape}, Min={original_image.min()}, Max={original_image.max()}\")\n",
    "    if original_image.max() <= 1.0:  # Normalize to 0-255 if needed\n",
    "        original_image = (original_image * 255).astype(np.uint8)\n",
    "    \n",
    "    # Load the corresponding individual mask\n",
    "    individual_mask_path = mask_files[i]\n",
    "    individual_mask = np.load(individual_mask_path)\n",
    "\n",
    "    print(f\"Individual Mask {i}: Shape={individual_mask.shape}, Min={individual_mask.min()}, Max={individual_mask.max()}\")\n",
    "\n",
    "    # Extract class from individual mask\n",
    "    individual_mask_class = np.argmax(individual_mask, axis=-1)\n",
    "\n",
    "    # Resize the individual mask to match the image\n",
    "    individual_mask_resized = cv2.resize(\n",
    "        individual_mask_class.astype(np.uint8),\n",
    "        (original_image.shape[1], original_image.shape[0]),\n",
    "        interpolation=cv2.INTER_NEAREST,\n",
    "    )\n",
    "\n",
    "    if individual_mask_resized.max() > 0:  # Ensure valid mask before normalizing\n",
    "        individual_mask_normalized = individual_mask_resized / individual_mask_resized.max()\n",
    "    else:\n",
    "        print(f\"Individual Mask {i} is empty. Skipping overlay generation.\")\n",
    "        individual_mask_normalized = np.zeros_like(individual_mask_resized, dtype=np.float32)\n",
    "\n",
    "    # Overlay individual mask on the original image\n",
    "    overlay_image_individual = original_image.copy()\n",
    "    overlay_image_individual[..., 0] = (\n",
    "        overlay_image_individual[..., 0] * 0.5 + individual_mask_normalized * 255 * 0.5\n",
    "    ).astype(np.uint8)\n",
    "\n",
    "    # Visualization\n",
    "    plt.figure(figsize=(12, 8))\n",
    "\n",
    "    plt.subplot(1, 2, 1)\n",
    "    plt.imshow(original_image)\n",
    "    plt.title(\"Original Image\")\n",
    "    plt.axis(\"off\")\n",
    "\n",
    "    plt.subplot(1, 2, 2)\n",
    "    plt.imshow(overlay_image_individual)\n",
    "    plt.title(\"Overlay Image with Individual Mask\")\n",
    "    plt.axis(\"off\")\n",
    "\n",
    "    plt.show()\n"
   ]
  },
  {
   "cell_type": "code",
   "execution_count": null,
   "id": "a168c704-27da-417a-8963-4c689bbaaf1b",
   "metadata": {},
   "outputs": [],
   "source": []
  },
  {
   "cell_type": "code",
   "execution_count": null,
   "id": "f80b52b2-2842-4cee-9685-4241457fb9e4",
   "metadata": {},
   "outputs": [],
   "source": []
  }
 ],
 "metadata": {
  "kernelspec": {
   "display_name": "Python (deepL_venv)",
   "language": "python",
   "name": "venv"
  },
  "language_info": {
   "codemirror_mode": {
    "name": "ipython",
    "version": 3
   },
   "file_extension": ".py",
   "mimetype": "text/x-python",
   "name": "python",
   "nbconvert_exporter": "python",
   "pygments_lexer": "ipython3",
   "version": "3.10.15"
  }
 },
 "nbformat": 4,
 "nbformat_minor": 5
}
