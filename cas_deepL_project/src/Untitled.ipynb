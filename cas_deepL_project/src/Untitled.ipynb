{
 "cells": [
  {
   "cell_type": "code",
   "execution_count": 1,
   "id": "bb8bfc3b-e94d-4402-aaa3-9a49d44f047b",
   "metadata": {},
   "outputs": [
    {
     "name": "stdout",
     "output_type": "stream",
     "text": [
      "Unique labels in Residential: [1]\n",
      "Unique labels in HerbaceousVegetation: [4]\n"
     ]
    }
   ],
   "source": [
    "import numpy as np\n",
    "\n",
    "# Load images and labels\n",
    "training_dir = \"../data/training_data_224\"  #\n",
    "\n",
    "# Load labels\n",
    "residential_labels = np.load(f\"{training_dir}/Residential_train_labels.npy\")\n",
    "herbaceous_labels = np.load(f\"{training_dir}/HerbaceousVegetation_train_labels.npy\")\n",
    "\n",
    "# Print unique labels\n",
    "print(\"Unique labels in Residential:\", np.unique(residential_labels))\n",
    "print(\"Unique labels in HerbaceousVegetation:\", np.unique(herbaceous_labels))\n"
   ]
  },
  {
   "cell_type": "code",
   "execution_count": null,
   "id": "9456fc6e-0b02-43e2-ae5c-8cd3ae0309e4",
   "metadata": {},
   "outputs": [],
   "source": [
    "def sanity_test(train_generator):\n",
    "    try:\n",
    "        # Load a batch of images and labels\n",
    "        batch_images, batch_labels = next(train_generator)\n",
    "        \n",
    "        # Print the shapes of the images and labels\n",
    "        print(f\"Batch images shape: {batch_images.shape}\")  # Should be (batch_size, 224, 224, 3)\n",
    "        print(f\"Batch labels shape: {batch_labels.shape}\")  # Should be (batch_size,) for sparse labels\n",
    "        \n",
    "        # Print the first few labels to verify alignment\n",
    "        print(\"Sample labels from the batch:\", batch_labels[:5])\n",
    "        \n",
    "        # Optional: Visualize one image from the batch\n",
    "        import matplotlib.pyplot as plt\n",
    "        plt.imshow(batch_images[0])\n",
    "        plt.title(f\"Label: {batch_labels[0]}\")\n",
    "        plt.axis('off')\n",
    "        plt.show()\n",
    "    except Exception as e:\n",
    "        print(f\"Sanity test failed: {e}\")\n",
    "\n",
    "# Assuming train_generator is already defined\n",
    "sanity_test(train_generator)\n"
   ]
  }
 ],
 "metadata": {
  "kernelspec": {
   "display_name": "Python (textanalytics_env)",
   "language": "python",
   "name": "textanalytics_env"
  },
  "language_info": {
   "codemirror_mode": {
    "name": "ipython",
    "version": 3
   },
   "file_extension": ".py",
   "mimetype": "text/x-python",
   "name": "python",
   "nbconvert_exporter": "python",
   "pygments_lexer": "ipython3",
   "version": "3.10.15"
  }
 },
 "nbformat": 4,
 "nbformat_minor": 5
}
