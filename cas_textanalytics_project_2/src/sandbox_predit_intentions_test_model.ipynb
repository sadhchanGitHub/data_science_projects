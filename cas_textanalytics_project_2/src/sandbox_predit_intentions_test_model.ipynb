{
 "cells": [
  {
   "cell_type": "code",
   "execution_count": 2,
   "id": "e29ee336-d69b-44d6-94b8-ffa62855c939",
   "metadata": {},
   "outputs": [
    {
     "data": {
      "text/html": [
       "<pre style=\"white-space:pre;overflow-x:auto;line-height:normal;font-family:Menlo,'DejaVu Sans Mono',consolas,'Courier New',monospace\"><span style=\"font-weight: bold\">Model: \"sequential\"</span>\n",
       "</pre>\n"
      ],
      "text/plain": [
       "\u001b[1mModel: \"sequential\"\u001b[0m\n"
      ]
     },
     "metadata": {},
     "output_type": "display_data"
    },
    {
     "data": {
      "text/html": [
       "<pre style=\"white-space:pre;overflow-x:auto;line-height:normal;font-family:Menlo,'DejaVu Sans Mono',consolas,'Courier New',monospace\">┏━━━━━━━━━━━━━━━━━━━━━━━━━━━━━━━━━┳━━━━━━━━━━━━━━━━━━━━━━━━┳━━━━━━━━━━━━━━━┓\n",
       "┃<span style=\"font-weight: bold\"> Layer (type)                    </span>┃<span style=\"font-weight: bold\"> Output Shape           </span>┃<span style=\"font-weight: bold\">       Param # </span>┃\n",
       "┡━━━━━━━━━━━━━━━━━━━━━━━━━━━━━━━━━╇━━━━━━━━━━━━━━━━━━━━━━━━╇━━━━━━━━━━━━━━━┩\n",
       "│ embedding (<span style=\"color: #0087ff; text-decoration-color: #0087ff\">Embedding</span>)           │ (<span style=\"color: #00d7ff; text-decoration-color: #00d7ff\">None</span>, <span style=\"color: #00af00; text-decoration-color: #00af00\">100</span>, <span style=\"color: #00af00; text-decoration-color: #00af00\">300</span>)       │    <span style=\"color: #00af00; text-decoration-color: #00af00\">35,828,100</span> │\n",
       "├─────────────────────────────────┼────────────────────────┼───────────────┤\n",
       "│ conv1d (<span style=\"color: #0087ff; text-decoration-color: #0087ff\">Conv1D</span>)                 │ (<span style=\"color: #00d7ff; text-decoration-color: #00d7ff\">None</span>, <span style=\"color: #00af00; text-decoration-color: #00af00\">96</span>, <span style=\"color: #00af00; text-decoration-color: #00af00\">128</span>)        │       <span style=\"color: #00af00; text-decoration-color: #00af00\">192,128</span> │\n",
       "├─────────────────────────────────┼────────────────────────┼───────────────┤\n",
       "│ global_max_pooling1d            │ (<span style=\"color: #00d7ff; text-decoration-color: #00d7ff\">None</span>, <span style=\"color: #00af00; text-decoration-color: #00af00\">128</span>)            │             <span style=\"color: #00af00; text-decoration-color: #00af00\">0</span> │\n",
       "│ (<span style=\"color: #0087ff; text-decoration-color: #0087ff\">GlobalMaxPooling1D</span>)            │                        │               │\n",
       "├─────────────────────────────────┼────────────────────────┼───────────────┤\n",
       "│ dropout (<span style=\"color: #0087ff; text-decoration-color: #0087ff\">Dropout</span>)               │ (<span style=\"color: #00d7ff; text-decoration-color: #00d7ff\">None</span>, <span style=\"color: #00af00; text-decoration-color: #00af00\">128</span>)            │             <span style=\"color: #00af00; text-decoration-color: #00af00\">0</span> │\n",
       "├─────────────────────────────────┼────────────────────────┼───────────────┤\n",
       "│ dense (<span style=\"color: #0087ff; text-decoration-color: #0087ff\">Dense</span>)                   │ (<span style=\"color: #00d7ff; text-decoration-color: #00d7ff\">None</span>, <span style=\"color: #00af00; text-decoration-color: #00af00\">10</span>)             │         <span style=\"color: #00af00; text-decoration-color: #00af00\">1,290</span> │\n",
       "├─────────────────────────────────┼────────────────────────┼───────────────┤\n",
       "│ dropout_1 (<span style=\"color: #0087ff; text-decoration-color: #0087ff\">Dropout</span>)             │ (<span style=\"color: #00d7ff; text-decoration-color: #00d7ff\">None</span>, <span style=\"color: #00af00; text-decoration-color: #00af00\">10</span>)             │             <span style=\"color: #00af00; text-decoration-color: #00af00\">0</span> │\n",
       "├─────────────────────────────────┼────────────────────────┼───────────────┤\n",
       "│ dense_1 (<span style=\"color: #0087ff; text-decoration-color: #0087ff\">Dense</span>)                 │ (<span style=\"color: #00d7ff; text-decoration-color: #00d7ff\">None</span>, <span style=\"color: #00af00; text-decoration-color: #00af00\">1</span>)              │            <span style=\"color: #00af00; text-decoration-color: #00af00\">11</span> │\n",
       "└─────────────────────────────────┴────────────────────────┴───────────────┘\n",
       "</pre>\n"
      ],
      "text/plain": [
       "┏━━━━━━━━━━━━━━━━━━━━━━━━━━━━━━━━━┳━━━━━━━━━━━━━━━━━━━━━━━━┳━━━━━━━━━━━━━━━┓\n",
       "┃\u001b[1m \u001b[0m\u001b[1mLayer (type)                   \u001b[0m\u001b[1m \u001b[0m┃\u001b[1m \u001b[0m\u001b[1mOutput Shape          \u001b[0m\u001b[1m \u001b[0m┃\u001b[1m \u001b[0m\u001b[1m      Param #\u001b[0m\u001b[1m \u001b[0m┃\n",
       "┡━━━━━━━━━━━━━━━━━━━━━━━━━━━━━━━━━╇━━━━━━━━━━━━━━━━━━━━━━━━╇━━━━━━━━━━━━━━━┩\n",
       "│ embedding (\u001b[38;5;33mEmbedding\u001b[0m)           │ (\u001b[38;5;45mNone\u001b[0m, \u001b[38;5;34m100\u001b[0m, \u001b[38;5;34m300\u001b[0m)       │    \u001b[38;5;34m35,828,100\u001b[0m │\n",
       "├─────────────────────────────────┼────────────────────────┼───────────────┤\n",
       "│ conv1d (\u001b[38;5;33mConv1D\u001b[0m)                 │ (\u001b[38;5;45mNone\u001b[0m, \u001b[38;5;34m96\u001b[0m, \u001b[38;5;34m128\u001b[0m)        │       \u001b[38;5;34m192,128\u001b[0m │\n",
       "├─────────────────────────────────┼────────────────────────┼───────────────┤\n",
       "│ global_max_pooling1d            │ (\u001b[38;5;45mNone\u001b[0m, \u001b[38;5;34m128\u001b[0m)            │             \u001b[38;5;34m0\u001b[0m │\n",
       "│ (\u001b[38;5;33mGlobalMaxPooling1D\u001b[0m)            │                        │               │\n",
       "├─────────────────────────────────┼────────────────────────┼───────────────┤\n",
       "│ dropout (\u001b[38;5;33mDropout\u001b[0m)               │ (\u001b[38;5;45mNone\u001b[0m, \u001b[38;5;34m128\u001b[0m)            │             \u001b[38;5;34m0\u001b[0m │\n",
       "├─────────────────────────────────┼────────────────────────┼───────────────┤\n",
       "│ dense (\u001b[38;5;33mDense\u001b[0m)                   │ (\u001b[38;5;45mNone\u001b[0m, \u001b[38;5;34m10\u001b[0m)             │         \u001b[38;5;34m1,290\u001b[0m │\n",
       "├─────────────────────────────────┼────────────────────────┼───────────────┤\n",
       "│ dropout_1 (\u001b[38;5;33mDropout\u001b[0m)             │ (\u001b[38;5;45mNone\u001b[0m, \u001b[38;5;34m10\u001b[0m)             │             \u001b[38;5;34m0\u001b[0m │\n",
       "├─────────────────────────────────┼────────────────────────┼───────────────┤\n",
       "│ dense_1 (\u001b[38;5;33mDense\u001b[0m)                 │ (\u001b[38;5;45mNone\u001b[0m, \u001b[38;5;34m1\u001b[0m)              │            \u001b[38;5;34m11\u001b[0m │\n",
       "└─────────────────────────────────┴────────────────────────┴───────────────┘\n"
      ]
     },
     "metadata": {},
     "output_type": "display_data"
    },
    {
     "data": {
      "text/html": [
       "<pre style=\"white-space:pre;overflow-x:auto;line-height:normal;font-family:Menlo,'DejaVu Sans Mono',consolas,'Courier New',monospace\"><span style=\"font-weight: bold\"> Total params: </span><span style=\"color: #00af00; text-decoration-color: #00af00\">36,408,389</span> (138.89 MB)\n",
       "</pre>\n"
      ],
      "text/plain": [
       "\u001b[1m Total params: \u001b[0m\u001b[38;5;34m36,408,389\u001b[0m (138.89 MB)\n"
      ]
     },
     "metadata": {},
     "output_type": "display_data"
    },
    {
     "data": {
      "text/html": [
       "<pre style=\"white-space:pre;overflow-x:auto;line-height:normal;font-family:Menlo,'DejaVu Sans Mono',consolas,'Courier New',monospace\"><span style=\"font-weight: bold\"> Trainable params: </span><span style=\"color: #00af00; text-decoration-color: #00af00\">193,429</span> (755.58 KB)\n",
       "</pre>\n"
      ],
      "text/plain": [
       "\u001b[1m Trainable params: \u001b[0m\u001b[38;5;34m193,429\u001b[0m (755.58 KB)\n"
      ]
     },
     "metadata": {},
     "output_type": "display_data"
    },
    {
     "data": {
      "text/html": [
       "<pre style=\"white-space:pre;overflow-x:auto;line-height:normal;font-family:Menlo,'DejaVu Sans Mono',consolas,'Courier New',monospace\"><span style=\"font-weight: bold\"> Non-trainable params: </span><span style=\"color: #00af00; text-decoration-color: #00af00\">35,828,100</span> (136.67 MB)\n",
       "</pre>\n"
      ],
      "text/plain": [
       "\u001b[1m Non-trainable params: \u001b[0m\u001b[38;5;34m35,828,100\u001b[0m (136.67 MB)\n"
      ]
     },
     "metadata": {},
     "output_type": "display_data"
    },
    {
     "data": {
      "text/html": [
       "<pre style=\"white-space:pre;overflow-x:auto;line-height:normal;font-family:Menlo,'DejaVu Sans Mono',consolas,'Courier New',monospace\"><span style=\"font-weight: bold\"> Optimizer params: </span><span style=\"color: #00af00; text-decoration-color: #00af00\">386,860</span> (1.48 MB)\n",
       "</pre>\n"
      ],
      "text/plain": [
       "\u001b[1m Optimizer params: \u001b[0m\u001b[38;5;34m386,860\u001b[0m (1.48 MB)\n"
      ]
     },
     "metadata": {},
     "output_type": "display_data"
    },
    {
     "name": "stdout",
     "output_type": "stream",
     "text": [
      "\u001b[1m1/1\u001b[0m \u001b[32m━━━━━━━━━━━━━━━━━━━━\u001b[0m\u001b[37m\u001b[0m \u001b[1m0s\u001b[0m 159ms/step\n",
      "Input: Can you recommend a restaurant?\n",
      "Predicted probabilities: [[0.07804979]]\n",
      "Predicted intent: 0\n"
     ]
    },
    {
     "data": {
      "image/png": "[encoded data removed]",
      "text/plain": [
       "<Figure size 640x480 with 1 Axes>"
      ]
     },
     "metadata": {},
     "output_type": "display_data"
    }
   ],
   "source": [
    "import numpy as np\n",
    "import torch\n",
    "from tensorflow.keras.models import load_model\n",
    "import matplotlib.pyplot as plt\n",
    "\n",
    "import os\n",
    "os.environ[\"CUDA_VISIBLE_DEVICES\"] = \"-1\"\n",
    "\n",
    "\n",
    "# Load GloVe embeddings\n",
    "def load_glove_embeddings(glove_path, embedding_dim=300):\n",
    "    embeddings_index = {}\n",
    "    with open(glove_path, encoding=\"utf-8\") as f:\n",
    "        for line in f:\n",
    "            values = line.split()\n",
    "            word = values[0]\n",
    "            try:\n",
    "                coefs = np.asarray(values[1:], dtype='float32')\n",
    "                if len(coefs) == embedding_dim:\n",
    "                    embeddings_index[word] = coefs\n",
    "            except ValueError:\n",
    "                pass\n",
    "    return embeddings_index\n",
    "\n",
    "# Convert text to GloVe vector\n",
    "def text_to_glove_vector(text, embeddings_index, embedding_dim=300):\n",
    "    tokens = text.lower().split()\n",
    "    vectors = [embeddings_index.get(token, np.zeros(embedding_dim)) for token in tokens]\n",
    "    return np.mean(vectors, axis=0)\n",
    "\n",
    "# Load your trained model\n",
    "model = load_model(f\"../models/tier2_01_cnn_model_1736284036.keras\") \n",
    "model.summary()\n",
    "\n",
    "# Predict intent and plot probabilities\n",
    "def predict_and_plot(user_input):\n",
    "    glove_path = \"../data/glove.840B.300d.txt\"  # Replace with actual GloVe path\n",
    "    embeddings_index = load_glove_embeddings(glove_path)\n",
    "    \n",
    "    glove_vector = text_to_glove_vector(user_input, embeddings_index)\n",
    "    input_tensor = np.expand_dims(glove_vector, axis=0)\n",
    "    \n",
    "    prediction = model.predict(input_tensor)\n",
    "    intent = np.argmax(prediction)\n",
    "    \n",
    "    # Print the probabilities\n",
    "    print(f\"Input: {user_input}\")\n",
    "    print(f\"Predicted probabilities: {prediction}\")\n",
    "    print(f\"Predicted intent: {intent}\")\n",
    "    \n",
    "    # Plot the probabilities\n",
    "    intents = [\"Intent 0\", \"Intent 1\", \"Intent 2\"]\n",
    "    plt.bar(intents, prediction[0])\n",
    "    plt.title(f\"Intent Probabilities for Input: '{user_input}'\")\n",
    "    plt.ylabel(\"Probability\")\n",
    "    plt.xlabel(\"Intents\")\n",
    "    plt.ylim(0, 1)\n",
    "    plt.show()\n",
    "\n",
    "# Example usage\n",
    "if __name__ == \"__main__\":\n",
    "    user_input = \"Can you recommend a restaurant?\"  # Replace with any input\n",
    "    predict_and_plot(user_input)\n"
   ]
  },
  {
   "cell_type": "code",
   "execution_count": 3,
   "id": "197ddaaa-9fb2-4266-a5c1-a306af9d2c82",
   "metadata": {},
   "outputs": [
    {
     "name": "stdout",
     "output_type": "stream",
     "text": [
      "Dask cluster details: <Client: 'tcp://127.0.0.1:38901' processes=11 threads=22, memory=15.32 GiB>\n"
     ]
    }
   ],
   "source": [
    "from dask.distributed import Client\n",
    "\n",
    "client = Client()\n",
    "print(\"Dask cluster details:\", client)\n",
    "client.close()"
   ]
  },
  {
   "cell_type": "code",
   "execution_count": 4,
   "id": "be77e549-c82e-4bc8-84bf-282adec9e9f8",
   "metadata": {},
   "outputs": [],
   "source": [
    "client.close()"
   ]
  },
  {
   "cell_type": "code",
   "execution_count": 8,
   "id": "55bf47f0-75f0-467c-a21a-f7fe6a2538ba",
   "metadata": {},
   "outputs": [
    {
     "name": "stderr",
     "output_type": "stream",
     "text": [
      "/home/hyd_in_zrh/anaconda3/envs/textanalytics_env/lib/python3.10/site-packages/distributed/node.py:187: UserWarning: Port 8787 is already in use.\n",
      "Perhaps you already have a cluster running?\n",
      "Hosting the HTTP server on port 39441 instead\n",
      "  warnings.warn(\n",
      "/home/hyd_in_zrh/anaconda3/envs/textanalytics_env/lib/python3.10/site-packages/distributed/client.py:3371: UserWarning: Sending large graph of size 121.84 MiB.\n",
      "This may cause some slowdown.\n",
      "Consider loading the data with Dask directly\n",
      " or using futures or delayed objects to embed the data into the graph without repetition.\n",
      "See also https://docs.dask.org/en/stable/best-practices.html#load-data-with-dask for more information.\n",
      "  warnings.warn(\n"
     ]
    },
    {
     "name": "stdout",
     "output_type": "stream",
     "text": [
      "['co workers volunteering foodbank corner came lunch find awesome italian food unique twists standard fare atmosphere appealing prices reasonable especially manhattan wait staff awesome coming', 'nyc know italian reastaurants fake italian inside times quality best pasta actually handmade gnocchis find real italian truffles perfect service professional extraordinary wines piemonte region place clean nice little bit noisy taste stunning experience', 'girlfriend originally piedmont italy restaurant elegant nice atmosphere good fit romantic friends dinners food simply authentic excellent ingredients quality girlfriend happy taste flavors childhood service fast accurate price fair especially considering outstanding food quality location people starters main courses desserts glasses italian red wine glasses italian dessert wine surely', 'absolutely wonderful experience courteous staff friendly risotto ravioli amazing great drinks cozy ambiance prepared loved northern italian cuisine', 'selection plates northern italian absolutely delicious pot au feu pardon french special piedmontese dish tender boiled meats <RESTAURANT> comfortable table filled variety delicious appetizers butternut croquettes beef tartar mediterranean anchovies special wines match look menu personally looking forward going wild boar piedmontese duck dish thanks chef allis attention fair price']\n"
     ]
    }
   ],
   "source": [
    "import dask.bag as db\n",
    "import pandas as pd\n",
    "client = Client()\n",
    "data = pd.read_csv(\"../data/New_York_reviews_with_no_restaurantname_in_Review.csv\") \n",
    "dask_bag = db.from_sequence(data['review_no_restaurant'].tolist(), npartitions=4)\n",
    "matches = dask_bag.filter(lambda x: \"italian\" in x.lower()).compute()\n",
    "#keyword_matches = dask_bag.filter(lambda x: cuisine.lower() in x.lower()).compute()\n",
    "print(matches[:5])  # Use slicing instead of .head()\n",
    "client.close()\n"
   ]
  },
  {
   "cell_type": "code",
   "execution_count": 10,
   "id": "2dcbc530-7949-41f2-84e8-6e2e46f49364",
   "metadata": {},
   "outputs": [
    {
     "name": "stdout",
     "output_type": "stream",
     "text": [
      "Debugging for Detected Cuisine: Indian\n",
      "\n",
      "--- Reviews for Restaurant: Morton_Williams_57th_St ---\n",
      "['needed place quick hot meals midtown manhattan losing shirt looks like ordinary supermarket come buffet area rush hour commuters crowd hot cooked food area pound including beef stew pork ribs rice teriyaki chicken brussel sprouts white <RESTAURANT> stuffed crab crab way commuters tearing doors day week food italian monday chinese tuesday mexican wednesday indian thursday comfort food friday came dinner saturday day arrival monday tuesday wife balked coming fourth time dinner saying afford eat come times groceries times dinner times breakfast days ran cereal breakfast omelets hashed brown potatoes sausage guy saw took cooked bacon getting money worth pound white chinese dinner got come early pm meats dry sitting buffet bins came sandwich eat met find meat sandwich cheese cheese little meat come time midtown manhattan west hilton street residences hilton blocks away']\n",
      "\n",
      "\n"
     ]
    }
   ],
   "source": [
    "import pandas as pd\n",
    "\n",
    "def debug_cuisine_matches(data, detected_cuisine, recommendations):\n",
    "    \"\"\"\n",
    "    Check and print reviews that contain the detected cuisine for the recommended restaurants.\n",
    "    \"\"\"\n",
    "    print(f\"Debugging for Detected Cuisine: {detected_cuisine}\\n\")\n",
    "    for restaurant in recommendations:\n",
    "        print(f\"--- Reviews for Restaurant: {restaurant} ---\")\n",
    "        restaurant_reviews = data[data['restaurant_name'] == restaurant]\n",
    "        matching_reviews = restaurant_reviews[\n",
    "            restaurant_reviews['review_no_restaurant'].str.contains(detected_cuisine, case=False, na=False)\n",
    "        ]\n",
    "        \n",
    "        if not matching_reviews.empty:\n",
    "            print(matching_reviews['review_no_restaurant'].tolist())\n",
    "        else:\n",
    "            print(f\"No reviews mentioning '{detected_cuisine}' for {restaurant}.\")\n",
    "        print(\"\\n\")\n",
    "\n",
    "# Load data\n",
    "data = pd.read_csv(\"../data/New_York_reviews_with_no_restaurantname_in_Review.csv\")\n",
    "\n",
    "# Example usage\n",
    "detected_cuisine = \"Indian\"  # Replace with the detected cuisine\n",
    "recommendations = [\"Morton_Williams_57th_St\"]\n",
    "\n",
    "debug_cuisine_matches(data, detected_cuisine, recommendations)\n"
   ]
  },
  {
   "cell_type": "code",
   "execution_count": 12,
   "id": "139002ce-cf56-4df8-a535-6206dbca85e8",
   "metadata": {
    "scrolled": true
   },
   "outputs": [
    {
     "name": "stdout",
     "output_type": "stream",
     "text": [
      "Debugging for User Input: 'good food and ambiance'\n",
      "\n",
      "--- Reviews for Restaurant: Lido ---\n",
      "No reviews mentioning 'good food and ambiance' for Lido.\n",
      "\n",
      "\n",
      "--- Reviews for Restaurant: Havana_Central_Restaurant_Rum_Bar ---\n",
      "No reviews mentioning 'good food and ambiance' for Havana_Central_Restaurant_Rum_Bar.\n",
      "\n",
      "\n",
      "--- Reviews for Restaurant: Whiskey_Tavern ---\n",
      "No reviews mentioning 'good food and ambiance' for Whiskey_Tavern.\n",
      "\n",
      "\n"
     ]
    }
   ],
   "source": [
    "import pandas as pd\n",
    "\n",
    "def debug_input_matches(data, user_input, recommendations):\n",
    "    \"\"\"\n",
    "    Check and print reviews that contain the user input for the recommended restaurants.\n",
    "    \"\"\"\n",
    "    print(f\"Debugging for User Input: '{user_input}'\\n\")\n",
    "    for restaurant in recommendations:\n",
    "        print(f\"--- Reviews for Restaurant: {restaurant} ---\")\n",
    "        restaurant_reviews = data[data['restaurant_name'] == restaurant]\n",
    "        matching_reviews = restaurant_reviews[\n",
    "            restaurant_reviews['review_no_restaurant'].str.contains(user_input, case=False, na=False)\n",
    "        ]\n",
    "        \n",
    "        if not matching_reviews.empty:\n",
    "            print(matching_reviews['review_no_restaurant'].tolist())\n",
    "        else:\n",
    "            print(f\"No reviews mentioning '{user_input}' for {restaurant}.\")\n",
    "        print(\"\\n\")\n",
    "\n",
    "# Load data\n",
    "data = pd.read_csv(\"../data/New_York_reviews_with_no_restaurantname_in_Review.csv\")\n",
    "\n",
    "# Example usage\n",
    "user_input = \"good food and ambiance\"  # Replace with the user input\n",
    "#recommendations = [\"Lido\", \"Havana_Central_Restaurant_Rum_Bar\", \"Whiskey_Tavern\", \"Buenos_Aires\", \"B_Side_Pizzeria\", \"Red_Peony\", \"Norma\", \"Song_E_Napule\", \"San_Carlo_Osteria_Piemonte\", \"Pure_Thai_Cookhouse\"]  \n",
    "\n",
    "recommendations = [\"Lido\", \"Havana_Central_Restaurant_Rum_Bar\", \"Whiskey_Tavern\"]\n",
    "# Replace with actual recommendations\n",
    "\n",
    "debug_input_matches(data, user_input, recommendations)\n"
   ]
  },
  {
   "cell_type": "code",
   "execution_count": 17,
   "id": "07adfbd9-8e0b-4da6-934b-4b7fe41df7ad",
   "metadata": {},
   "outputs": [
    {
     "name": "stdout",
     "output_type": "stream",
     "text": [
      "                                 review_no_restaurant  \\\n",
      "0   wife eating dinner frequently <RESTAURANT> vir...   \n",
      "1   came family labor day weekend brunch daughter ...   \n",
      "2   food mediocre best lamb chops image feature we...   \n",
      "3   co workers volunteering foodbank corner came l...   \n",
      "5   restaurant list time nyc loved ambiance food o...   \n",
      "6   superb service great food energy eat everyday ...   \n",
      "7   good food good variety great experience place ...   \n",
      "8   time coming time tried new time ordered warm k...   \n",
      "9   lunch fantastic cup coffee server isaias fanta...   \n",
      "10  rollicking place celebrate birthday great time...   \n",
      "\n",
      "                      restaurant_name  \n",
      "0                                Lido  \n",
      "1                                Lido  \n",
      "2                                Lido  \n",
      "3                                Lido  \n",
      "5                                Lido  \n",
      "6                                Lido  \n",
      "7                                Lido  \n",
      "8                                Lido  \n",
      "9   Havana_Central_Restaurant_Rum_Bar  \n",
      "10  Havana_Central_Restaurant_Rum_Bar  \n"
     ]
    }
   ],
   "source": [
    "import pandas as pd\n",
    "\n",
    "# Load data\n",
    "data = pd.read_csv(\"../data/New_York_reviews_with_no_restaurantname_in_Review.csv\")\n",
    "\n",
    "# Example usage\n",
    "user_input = \"good food and ambiance\"  # Replace with the user input\n",
    "\n",
    "keywords = user_input.lower().split()\n",
    "keyword_filter = data['review_no_restaurant'].str.contains('|'.join(keywords), case=False, na=False)\n",
    "filtered_data = data[keyword_filter]\n",
    "\n",
    "# Print the first 10 matching reviews along with their restaurant names\n",
    "print(filtered_data[['review_no_restaurant', 'restaurant_name']].head(10))"
   ]
  },
  {
   "cell_type": "code",
   "execution_count": null,
   "id": "f7d4266e-7598-4bd4-a68e-fb3513f43e53",
   "metadata": {},
   "outputs": [],
   "source": []
  }
 ],
 "metadata": {
  "kernelspec": {
   "display_name": "Python (textanalytics_env)",
   "language": "python",
   "name": "textanalytics_env"
  },
  "language_info": {
   "codemirror_mode": {
    "name": "ipython",
    "version": 3
   },
   "file_extension": ".py",
   "mimetype": "text/x-python",
   "name": "python",
   "nbconvert_exporter": "python",
   "pygments_lexer": "ipython3",
   "version": "3.10.15"
  }
 },
 "nbformat": 4,
 "nbformat_minor": 5
}
