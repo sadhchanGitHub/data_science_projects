{
 "cells": [
  {
   "cell_type": "code",
   "execution_count": 19,
   "id": "d529b095-cb89-4bda-a761-b017f583d45e",
   "metadata": {},
   "outputs": [],
   "source": [
    "import re\n",
    "import pandas as pd\n",
    "\n",
    "# cleanup the restaurent name from the review to focus on sentiment than general info.\n",
    "\n",
    "def compile_restaurant_pattern(restaurant_names):\n",
    "    \"\"\"Compile a single regex pattern for all restaurant names.\"\"\"\n",
    "    print(\"Compiling regex pattern for restaurant names...\")\n",
    "    return re.compile(r'\\b(' + '|'.join(re.escape(name) for name in restaurant_names) + r')\\b', re.IGNORECASE)\n",
    "\n",
    "def replace_restaurant_names(text, pattern):\n",
    "    \"\"\"Replace restaurant names in the given text using the compiled pattern.\"\"\"\n",
    "    return pattern.sub('<RESTAURANT>', text)\n",
    "\n",
    "def preprocess_reviews(data):\n",
    "    \"\"\"Preprocess reviews by replacing restaurant names and creating a new column.\"\"\"\n",
    "    print(\"Starting preprocessing...\")\n",
    "    \n",
    "    # Get all unique restaurant names in lowercase\n",
    "    restaurant_names = data['restaurant_name'].str.lower().unique()\n",
    "    \n",
    "    # Compile regex pattern once\n",
    "    pattern = compile_restaurant_pattern(restaurant_names)\n",
    "    \n",
    "    # Replace restaurant names in the 'cleaned_review' column\n",
    "    data['review_no_restaurant'] = data['cleaned_review'].apply(lambda x: replace_restaurant_names(x, pattern))\n",
    "    \n",
    "    print(\"Preprocessing completed.\")\n",
    "    return data\n",
    "\n"
   ]
  },
  {
   "cell_type": "code",
   "execution_count": 20,
   "id": "4bec3825-ce8d-4f7e-afb2-ab8a70301609",
   "metadata": {},
   "outputs": [
    {
     "name": "stdout",
     "output_type": "stream",
     "text": [
      "Starting preprocessing...\n",
      "Compiling regex pattern for restaurant names...\n",
      "Preprocessing completed.\n"
     ]
    }
   ],
   "source": [
    "# Load your dataset\n",
    "df_cleanreview = pd.read_csv(\"../data/New_York_reviews_cleaned_with_spacy.csv\")\n",
    "\n",
    "# Preprocess reviews\n",
    "preprocessed_data = preprocess_reviews(df_cleanreview)\n",
    "preprocessed_data.rename(columns={'sample': 'sentiment'}, inplace=True)\n",
    "\n",
    "# Save the updated dataframe\n",
    "preprocessed_data.to_csv(\"../data/New_York_reviews_with_no_restaurantname_in_Review.csv\", index=False)\n"
   ]
  },
  {
   "cell_type": "code",
   "execution_count": 21,
   "id": "f65be61b-92ca-4cd8-a657-7a7c35dbb7bd",
   "metadata": {},
   "outputs": [
    {
     "name": "stdout",
     "output_type": "stream",
     "text": [
      "Index(['restaurant_name', 'rating_review', 'sentiment', 'review_id',\n",
      "       'title_review', 'review_preview', 'review_full', 'date', 'city',\n",
      "       'url_restaurant', 'author_id', 'review_length', 'cleaned_review',\n",
      "       'review_no_restaurant'],\n",
      "      dtype='object')\n"
     ]
    }
   ],
   "source": [
    "print(preprocessed_data.columns)"
   ]
  },
  {
   "cell_type": "code",
   "execution_count": null,
   "id": "0d7d79c8-fb1d-4b6c-b341-2e0c2ae39534",
   "metadata": {},
   "outputs": [],
   "source": []
  },
  {
   "cell_type": "code",
   "execution_count": null,
   "id": "44c649c6-053f-455a-a451-640b18a56b65",
   "metadata": {},
   "outputs": [],
   "source": []
  }
 ],
 "metadata": {
  "kernelspec": {
   "display_name": "Python (textanalytics_env)",
   "language": "python",
   "name": "textanalytics_env"
  },
  "language_info": {
   "codemirror_mode": {
    "name": "ipython",
    "version": 3
   },
   "file_extension": ".py",
   "mimetype": "text/x-python",
   "name": "python",
   "nbconvert_exporter": "python",
   "pygments_lexer": "ipython3",
   "version": "3.10.15"
  }
 },
 "nbformat": 4,
 "nbformat_minor": 5
}
