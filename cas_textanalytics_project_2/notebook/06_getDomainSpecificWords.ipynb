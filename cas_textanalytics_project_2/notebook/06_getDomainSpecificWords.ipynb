{
 "cells": [
  {
   "cell_type": "code",
   "execution_count": 3,
   "id": "8584fdd8-0302-4408-97bd-a984e1538d0e",
   "metadata": {},
   "outputs": [
    {
     "name": "stdout",
     "output_type": "stream",
     "text": [
      "Top Domain-Specific Words: ['food', 'good', 'great', 'service', 'place', 'restaurant', 'time', 'staff', 'delicious', 'nice', 'menu', 'excellent', 'table', 'dinner', 'like', 'nyc', 'bar', 'meal', 'friendly', 'best', '<restaurant>', 'new', 'ordered', 'went', 'atmosphere', 'wine', 'experience', 'lunch', 'recommend', 'wait', 'little', 'york', 'amazing', 'night', 'visit', 'came', 'definitely', 'eat', 'try', 'chicken', 'pizza', 'salad', 'people', 'drinks', 'got', 'small', 'times', 'enjoyed', 'waiter', 'breakfast']\n"
     ]
    }
   ],
   "source": [
    "from collections import Counter\n",
    "from nltk.corpus import stopwords\n",
    "import string\n",
    "import pandas as pd\n",
    "\n",
    "# Load stopwords\n",
    "stop_words = set(stopwords.words('english'))\n",
    "punctuation = set(string.punctuation)\n",
    "\n",
    "# Load your dataset\n",
    "df = pd.read_csv(\"../data/New_York_reviews_with_no_restaurantname_in_Review.csv\")\n",
    "\n",
    "\n",
    "# Extract reviews and tokenize\n",
    "all_reviews = df['review_no_restaurant'].str.lower().str.split()\n",
    "filtered_words = [\n",
    "    word for review in all_reviews.dropna() for word in review\n",
    "    if word not in stop_words and word not in punctuation\n",
    "]\n",
    "\n",
    "# Get top 50 domain-specific words\n",
    "word_freq = Counter(filtered_words)\n",
    "domain_specific_words = [word for word, freq in word_freq.most_common(50)]\n",
    "\n",
    "print(\"Top Domain-Specific Words:\", domain_specific_words)\n"
   ]
  },
  {
   "cell_type": "code",
   "execution_count": null,
   "id": "8fb8169b-64a9-42ee-a7f1-4abd72251e01",
   "metadata": {},
   "outputs": [],
   "source": []
  }
 ],
 "metadata": {
  "kernelspec": {
   "display_name": "Python (textanalytics_env)",
   "language": "python",
   "name": "textanalytics_env"
  },
  "language_info": {
   "codemirror_mode": {
    "name": "ipython",
    "version": 3
   },
   "file_extension": ".py",
   "mimetype": "text/x-python",
   "name": "python",
   "nbconvert_exporter": "python",
   "pygments_lexer": "ipython3",
   "version": "3.10.15"
  }
 },
 "nbformat": 4,
 "nbformat_minor": 5
}
