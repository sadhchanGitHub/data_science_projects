{
 "cells": [
  {
   "cell_type": "code",
   "execution_count": 1,
   "id": "e5b5757c-0cb6-487a-b75c-a0af419cc906",
   "metadata": {},
   "outputs": [
    {
     "name": "stderr",
     "output_type": "stream",
     "text": [
      "/tmp/ipykernel_10649/957038145.py:4: DtypeWarning: Columns (0,1,3) have mixed types. Specify dtype option on import or set low_memory=False.\n",
      "  df = pd.read_csv('../data/New_York_reviews.csv')\n"
     ]
    },
    {
     "name": "stdout",
     "output_type": "stream",
     "text": [
      "<class 'pandas.core.frame.DataFrame'>\n",
      "RangeIndex: 510463 entries, 0 to 510462\n",
      "Data columns (total 13 columns):\n",
      " #   Column           Non-Null Count   Dtype \n",
      "---  ------           --------------   ----- \n",
      " 0   Unnamed: 0       510463 non-null  object\n",
      " 1   parse_count      510463 non-null  object\n",
      " 2   restaurant_name  510463 non-null  object\n",
      " 3   rating_review    510463 non-null  object\n",
      " 4   sample           510463 non-null  object\n",
      " 5   review_id        510463 non-null  object\n",
      " 6   title_review     510460 non-null  object\n",
      " 7   review_preview   510462 non-null  object\n",
      " 8   review_full      510461 non-null  object\n",
      " 9   date             510461 non-null  object\n",
      " 10  city             510461 non-null  object\n",
      " 11  url_restaurant   510461 non-null  object\n",
      " 12  author_id        510461 non-null  object\n",
      "dtypes: object(13)\n",
      "memory usage: 50.6+ MB\n",
      "None\n",
      "  Unnamed: 0 parse_count restaurant_name rating_review    sample  \\\n",
      "0          1           2            Lido             5  Positive   \n",
      "1          2           3            Lido             4  Positive   \n",
      "2          3           4            Lido             1  Negative   \n",
      "3          4           5            Lido             5  Positive   \n",
      "4          5           6            Lido             5  Positive   \n",
      "\n",
      "          review_id             title_review  \\\n",
      "0  review_773559838          A Regular Treat   \n",
      "1  review_769429529  Good neighborhood spot!   \n",
      "2  review_745700258            Disappointing   \n",
      "3  review_728859349    What a find in Harlem   \n",
      "4  review_728429643                    Lunch   \n",
      "\n",
      "                                      review_preview  \\\n",
      "0  My wife and I have been eating dinner frequent...   \n",
      "1  Came with family for Labor Day weekend brunch ...   \n",
      "2  Food was mediocre at best.  The lamb chops are...   \n",
      "3  My co-workers were volunteering at a foodbank ...   \n",
      "4  Lido is an intimate boutique style restaurant....   \n",
      "\n",
      "                                         review_full               date  \\\n",
      "0  My wife and I have been eating dinner frequent...    October 8, 2020   \n",
      "1  Came with family for Labor Day weekend brunch ...  September 8, 2020   \n",
      "2  Food was mediocre at best. The lamb chops are ...  February 17, 2020   \n",
      "3  My co-workers were volunteering at a foodbank ...  November 25, 2019   \n",
      "4  Lido is an intimate boutique style restaurant....  November 23, 2019   \n",
      "\n",
      "                     city                                     url_restaurant  \\\n",
      "0  New_York_City_New_York  https://www.tripadvisor.com/Restaurant_Review-...   \n",
      "1  New_York_City_New_York  https://www.tripadvisor.com/Restaurant_Review-...   \n",
      "2  New_York_City_New_York  https://www.tripadvisor.com/Restaurant_Review-...   \n",
      "3  New_York_City_New_York  https://www.tripadvisor.com/Restaurant_Review-...   \n",
      "4  New_York_City_New_York  https://www.tripadvisor.com/Restaurant_Review-...   \n",
      "\n",
      "  author_id  \n",
      "0     UID_0  \n",
      "1     UID_1  \n",
      "2     UID_2  \n",
      "3     UID_3  \n",
      "4     UID_4  \n"
     ]
    }
   ],
   "source": [
    "import pandas as pd\n",
    "\n",
    "# Load the dataset\n",
    "df = pd.read_csv('../data/New_York_reviews.csv')\n",
    "\n",
    "# Display basic information\n",
    "print(df.info())  # Check for missing values and data types\n",
    "print(df.head())  # View the first few rows of the dataset\n"
   ]
  },
  {
   "cell_type": "code",
   "execution_count": 2,
   "id": "723e0c23-4be7-4c70-af9e-a4759c262062",
   "metadata": {},
   "outputs": [
    {
     "name": "stdout",
     "output_type": "stream",
     "text": [
      "Missing Values:\n",
      " Unnamed: 0         0\n",
      "parse_count        0\n",
      "restaurant_name    0\n",
      "rating_review      0\n",
      "sample             0\n",
      "review_id          0\n",
      "title_review       3\n",
      "review_preview     1\n",
      "review_full        2\n",
      "date               2\n",
      "city               2\n",
      "url_restaurant     2\n",
      "author_id          2\n",
      "dtype: int64\n",
      "Number of duplicate rows: 0\n"
     ]
    }
   ],
   "source": [
    "# Check for missing values\n",
    "missing_values = df.isnull().sum()\n",
    "print(\"Missing Values:\\n\", missing_values)\n",
    "\n",
    "# Check for duplicates\n",
    "duplicates = df.duplicated().sum()\n",
    "print(f\"Number of duplicate rows: {duplicates}\")\n"
   ]
  },
  {
   "cell_type": "code",
   "execution_count": 6,
   "id": "a091f9c0-15df-4b08-b8bf-99f1f288cb67",
   "metadata": {},
   "outputs": [
    {
     "name": "stdout",
     "output_type": "stream",
     "text": [
      "rating_review\n",
      "5                         227762\n",
      "4                         138785\n",
      "3                          46988\n",
      "5                          31210\n",
      "4                          22006\n",
      "2                          17553\n",
      "1                          13839\n",
      "3                           7356\n",
      "2                           2759\n",
      "1                           2204\n",
      "New_York_City_New_York         1\n",
      "Name: count, dtype: int64\n",
      "sample\n",
      "Positive                                                                                                                419763\n",
      "Negative                                                                                                                 90699\n",
      "https://www.tripadvisor.com/Restaurant_Review-g60763-d477523-Reviews-or290-Rosa_Mexicano-New_York_City_New_York.html         1\n",
      "Name: count, dtype: int64\n"
     ]
    }
   ],
   "source": [
    "\n",
    "# Distribution of `rating_review`\n",
    "print(df['rating_review'].value_counts())\n",
    "\n",
    "# Distribution of `sample` (positive/negative)\n",
    "print(df['sample'].value_counts())\n"
   ]
  },
  {
   "cell_type": "code",
   "execution_count": 7,
   "id": "f94e9e9c-8435-4b9a-b8fe-6cf9c322ca17",
   "metadata": {},
   "outputs": [
    {
     "name": "stdout",
     "output_type": "stream",
     "text": [
      "count    510463.000000\n",
      "mean        442.990050\n",
      "std         373.884011\n",
      "min           3.000000\n",
      "25%         208.000000\n",
      "50%         336.000000\n",
      "75%         551.000000\n",
      "max       12106.000000\n",
      "Name: review_length, dtype: float64\n"
     ]
    },
    {
     "data": {
      "image/png": "[encoded data removed]",
      "text/plain": [
       "<Figure size 640x480 with 1 Axes>"
      ]
     },
     "metadata": {},
     "output_type": "display_data"
    }
   ],
   "source": [
    "import matplotlib.pyplot as plt\n",
    "\n",
    "\n",
    "# Calculate review length\n",
    "df['review_length'] = df['review_full'].apply(lambda x: len(str(x)))\n",
    "\n",
    "# Summary statistics of review lengths\n",
    "print(df['review_length'].describe())\n",
    "\n",
    "# Optional: Plot review length distribution\n",
    "df['review_length'].hist(bins=30, edgecolor='black')\n",
    "plt.title('Review Length Distribution')\n",
    "plt.xlabel('Number of Characters')\n",
    "plt.ylabel('Frequency')\n",
    "plt.show()\n"
   ]
  },
  {
   "cell_type": "markdown",
   "id": "9f603b7f-f761-43a2-bf66-f42b83e2c705",
   "metadata": {},
   "source": [
    "## cleanup"
   ]
  },
  {
   "cell_type": "raw",
   "id": "9696611d-3881-4ffb-9628-b6c34e9c0ac4",
   "metadata": {},
   "source": [
    "df = df.drop(columns=['Unnamed: 0', 'parse_count'])\n"
   ]
  },
  {
   "cell_type": "code",
   "execution_count": 9,
   "id": "f461b29a-6aa5-4922-93d6-f1aa644a1b4e",
   "metadata": {},
   "outputs": [],
   "source": [
    "#cleanup\n",
    "\n",
    "# Convert to numeric, coercing errors to NaN\n",
    "df['rating_review'] = pd.to_numeric(df['rating_review'], errors='coerce')\n",
    "df['parse_count'] = pd.to_numeric(df['parse_count'], errors='coerce')\n"
   ]
  },
  {
   "cell_type": "code",
   "execution_count": 16,
   "id": "c10082e9-fb82-411f-8bb3-18ee9f9777f5",
   "metadata": {},
   "outputs": [],
   "source": [
    "# Remove invalid (NaN) entries and create a new copy\n",
    "df = df[df['rating_review'].notna()].copy()  # Ensure we work with a new DataFrame\n",
    "df['rating_review'] = df['rating_review'].astype(int)  # Convert to integer safely\n"
   ]
  },
  {
   "cell_type": "code",
   "execution_count": 18,
   "id": "eabdf909-24c5-4b03-a307-3e0045439ae4",
   "metadata": {},
   "outputs": [
    {
     "name": "stdout",
     "output_type": "stream",
     "text": [
      "rating_review\n",
      "5    258972\n",
      "4    160791\n",
      "3     54344\n",
      "2     20312\n",
      "1     16043\n",
      "Name: count, dtype: int64\n",
      "<class 'pandas.core.frame.DataFrame'>\n",
      "Index: 510462 entries, 0 to 510462\n",
      "Data columns (total 12 columns):\n",
      " #   Column           Non-Null Count   Dtype \n",
      "---  ------           --------------   ----- \n",
      " 0   restaurant_name  510462 non-null  object\n",
      " 1   rating_review    510462 non-null  int64 \n",
      " 2   sample           510462 non-null  object\n",
      " 3   review_id        510462 non-null  object\n",
      " 4   title_review     510460 non-null  object\n",
      " 5   review_preview   510462 non-null  object\n",
      " 6   review_full      510461 non-null  object\n",
      " 7   date             510461 non-null  object\n",
      " 8   city             510461 non-null  object\n",
      " 9   url_restaurant   510461 non-null  object\n",
      " 10  author_id        510461 non-null  object\n",
      " 11  review_length    510462 non-null  int64 \n",
      "dtypes: int64(2), object(10)\n",
      "memory usage: 50.6+ MB\n",
      "None\n"
     ]
    }
   ],
   "source": [
    "print(df['rating_review'].value_counts())\n",
    "print(df.info())  # Verify no warnings or mixed types"
   ]
  },
  {
   "cell_type": "code",
   "execution_count": null,
   "id": "e6075ece-6775-40ca-9d14-0cfeb885341a",
   "metadata": {},
   "outputs": [],
   "source": [
    "# Remove invalid entries in `sample`\n",
    "df = df[df['sample'].isin(['Positive', 'Negative'])]\n"
   ]
  },
  {
   "cell_type": "code",
   "execution_count": 19,
   "id": "c69ee4bf-12c7-4501-a869-07332b1d2c65",
   "metadata": {},
   "outputs": [
    {
     "name": "stdout",
     "output_type": "stream",
     "text": [
      "                                              review_full  review_length\n",
      "111     Lunch in Hell's Kitchen, Midtown West summons ...           3675\n",
      "4735    Had two great dinners and a breakfast in the P...           3273\n",
      "5056    First the food: My rating scale ranges from po...           3634\n",
      "5074    We entered the beautiful Buddakan expecting to...           6015\n",
      "5267    A couple of years ago on a vacation to New Yor...           3186\n",
      "...                                                   ...            ...\n",
      "507067  There is not much I can say that is positive a...           4061\n",
      "508057  For several years now, every time we headed in...           6729\n",
      "508132  What’s this? A secret restaurant in NYC? One, ...           3308\n",
      "508152  When we went to Oda house for Georgian food, I...           3266\n",
      "508810  Is this the real life?  Is this just fantasy? ...           4273\n",
      "\n",
      "[849 rows x 2 columns]\n"
     ]
    }
   ],
   "source": [
    "# Inspect reviews with unusually high lengths\n",
    "long_reviews = df[df['review_length'] > 3000]\n",
    "print(long_reviews[['review_full', 'review_length']])\n",
    "\n",
    "# Optionally, drop reviews with extreme lengths if irrelevant\n",
    "df = df[df['review_length'] <= 3000]\n"
   ]
  },
  {
   "cell_type": "code",
   "execution_count": 20,
   "id": "85a40aad-9612-47ec-a309-64c7aca69fb0",
   "metadata": {},
   "outputs": [
    {
     "name": "stdout",
     "output_type": "stream",
     "text": [
      "rating_review\n",
      "5    258734\n",
      "4    160625\n",
      "3     54201\n",
      "2     20166\n",
      "1     15887\n",
      "Name: count, dtype: int64\n",
      "sample\n",
      "Positive    419359\n",
      "Negative     90254\n",
      "Name: count, dtype: int64\n"
     ]
    },
    {
     "data": {
      "image/png": "[encoded data removed]",
      "text/plain": [
       "<Figure size 640x480 with 1 Axes>"
      ]
     },
     "metadata": {},
     "output_type": "display_data"
    }
   ],
   "source": [
    "# Confirm class distribution\n",
    "print(df['rating_review'].value_counts())\n",
    "print(df['sample'].value_counts())\n",
    "\n",
    "# Plot clean review length distribution\n",
    "df['review_length'].hist(bins=30, edgecolor='black')\n",
    "plt.title('Cleaned Review Length Distribution')\n",
    "plt.xlabel('Number of Characters')\n",
    "plt.ylabel('Frequency')\n",
    "plt.show()\n"
   ]
  },
  {
   "cell_type": "code",
   "execution_count": 22,
   "id": "9cb04435-e6d2-49c0-b660-9a65b7c251b9",
   "metadata": {},
   "outputs": [],
   "source": [
    "# Drop rows where `review_full` or `rating_review` is missing\n",
    "df = df.dropna(subset=['review_full', 'rating_review'])\n",
    "\n",
    "# Fill missing values in other columns\n",
    "df['title_review'] = df['title_review'].fillna('No Title')\n",
    "df['date'] = df['date'].fillna('Unknown Date')\n"
   ]
  },
  {
   "cell_type": "code",
   "execution_count": 24,
   "id": "6ffd3874-fed7-4a25-bb9f-7bbf962ab8ca",
   "metadata": {},
   "outputs": [
    {
     "name": "stdout",
     "output_type": "stream",
     "text": [
      "Correlation Matrix:\n",
      "                rating_review  review_length\n",
      "rating_review        1.00000       -0.18043\n",
      "review_length       -0.18043        1.00000\n"
     ]
    }
   ],
   "source": [
    "# Correlation between rating and review length\n",
    "correlation = df[['rating_review', 'review_length']].corr()\n",
    "print(\"Correlation Matrix:\\n\", correlation)\n"
   ]
  },
  {
   "cell_type": "code",
   "execution_count": 23,
   "id": "b4ed5043-f88f-455a-af96-214a077a8b7f",
   "metadata": {},
   "outputs": [
    {
     "name": "stdout",
     "output_type": "stream",
     "text": [
      "<class 'pandas.core.frame.DataFrame'>\n",
      "Index: 509612 entries, 0 to 510462\n",
      "Data columns (total 12 columns):\n",
      " #   Column           Non-Null Count   Dtype \n",
      "---  ------           --------------   ----- \n",
      " 0   restaurant_name  509612 non-null  object\n",
      " 1   rating_review    509612 non-null  int64 \n",
      " 2   sample           509612 non-null  object\n",
      " 3   review_id        509612 non-null  object\n",
      " 4   title_review     509612 non-null  object\n",
      " 5   review_preview   509612 non-null  object\n",
      " 6   review_full      509612 non-null  object\n",
      " 7   date             509612 non-null  object\n",
      " 8   city             509612 non-null  object\n",
      " 9   url_restaurant   509612 non-null  object\n",
      " 10  author_id        509612 non-null  object\n",
      " 11  review_length    509612 non-null  int64 \n",
      "dtypes: int64(2), object(10)\n",
      "memory usage: 50.5+ MB\n",
      "None\n",
      "  restaurant_name  rating_review    sample         review_id  \\\n",
      "0            Lido              5  Positive  review_773559838   \n",
      "1            Lido              4  Positive  review_769429529   \n",
      "2            Lido              1  Negative  review_745700258   \n",
      "3            Lido              5  Positive  review_728859349   \n",
      "4            Lido              5  Positive  review_728429643   \n",
      "\n",
      "              title_review                                     review_preview  \\\n",
      "0          A Regular Treat  My wife and I have been eating dinner frequent...   \n",
      "1  Good neighborhood spot!  Came with family for Labor Day weekend brunch ...   \n",
      "2            Disappointing  Food was mediocre at best.  The lamb chops are...   \n",
      "3    What a find in Harlem  My co-workers were volunteering at a foodbank ...   \n",
      "4                    Lunch  Lido is an intimate boutique style restaurant....   \n",
      "\n",
      "                                         review_full               date  \\\n",
      "0  My wife and I have been eating dinner frequent...    October 8, 2020   \n",
      "1  Came with family for Labor Day weekend brunch ...  September 8, 2020   \n",
      "2  Food was mediocre at best. The lamb chops are ...  February 17, 2020   \n",
      "3  My co-workers were volunteering at a foodbank ...  November 25, 2019   \n",
      "4  Lido is an intimate boutique style restaurant....  November 23, 2019   \n",
      "\n",
      "                     city                                     url_restaurant  \\\n",
      "0  New_York_City_New_York  https://www.tripadvisor.com/Restaurant_Review-...   \n",
      "1  New_York_City_New_York  https://www.tripadvisor.com/Restaurant_Review-...   \n",
      "2  New_York_City_New_York  https://www.tripadvisor.com/Restaurant_Review-...   \n",
      "3  New_York_City_New_York  https://www.tripadvisor.com/Restaurant_Review-...   \n",
      "4  New_York_City_New_York  https://www.tripadvisor.com/Restaurant_Review-...   \n",
      "\n",
      "  author_id  review_length  \n",
      "0     UID_0            534  \n",
      "1     UID_1            390  \n",
      "2     UID_2            309  \n",
      "3     UID_3            312  \n",
      "4     UID_4            200  \n"
     ]
    }
   ],
   "source": [
    "\n",
    "# Display basic information\n",
    "print(df.info())  # Check for missing values and data types\n",
    "print(df.head())  # View the first few rows of the dataset\n"
   ]
  },
  {
   "cell_type": "code",
   "execution_count": 25,
   "id": "f884a0e1-fb40-47c2-8bb6-23817b160f43",
   "metadata": {},
   "outputs": [],
   "source": [
    "df.to_csv('../data/New_York_reviews_cleaned.csv', index=False)\n"
   ]
  },
  {
   "cell_type": "code",
   "execution_count": null,
   "id": "528b65be-d568-439e-a04c-718d7178275b",
   "metadata": {},
   "outputs": [],
   "source": []
  }
 ],
 "metadata": {
  "kernelspec": {
   "display_name": "Python (textanalytics_env)",
   "language": "python",
   "name": "textanalytics_env"
  },
  "language_info": {
   "codemirror_mode": {
    "name": "ipython",
    "version": 3
   },
   "file_extension": ".py",
   "mimetype": "text/x-python",
   "name": "python",
   "nbconvert_exporter": "python",
   "pygments_lexer": "ipython3",
   "version": "3.10.15"
  }
 },
 "nbformat": 4,
 "nbformat_minor": 5
}
