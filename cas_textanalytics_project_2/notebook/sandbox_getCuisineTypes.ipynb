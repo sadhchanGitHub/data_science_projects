{
 "cells": [
  {
   "cell_type": "code",
   "execution_count": 1,
   "id": "5f72ea37-d73b-4790-82c0-924631b734a1",
   "metadata": {},
   "outputs": [
    {
     "name": "stdout",
     "output_type": "stream",
     "text": [
      "Dataset Columns: Index(['restaurant_name', 'rating_review', 'sentiment', 'review_id',\n",
      "       'title_review', 'review_preview', 'review_full', 'date', 'city',\n",
      "       'url_restaurant', 'author_id', 'review_length', 'cleaned_review',\n",
      "       'review_no_restaurant'],\n",
      "      dtype='object')\n",
      "\n",
      "Detected Cuisines and Their Counts:\n",
      "Unknown: 430182\n",
      "Italian: 29762\n",
      "Turkish: 638\n",
      "Mexican: 4749\n",
      "French: 17590\n",
      "Thai: 3520\n",
      "Chinese: 3192\n",
      "Mediterranean: 1845\n",
      "American: 8997\n",
      "Indian: 2329\n",
      "Spanish: 1670\n",
      "Vietnamese: 412\n",
      "Japanese: 2850\n",
      "Korean: 2262\n",
      "Lebanese: 467\n",
      "Greek: 4206\n",
      "\n",
      "Cuisine summary saved as 'cuisine_summary.csv'\n"
     ]
    }
   ],
   "source": [
    "import pandas as pd\n",
    "\n",
    "# Load your dataset\n",
    "data = pd.read_csv(\"../data/New_York_reviews_with_no_restaurantname_in_Review.csv\")  # Replace with the correct file path\n",
    "\n",
    "# Quick check of dataset columns\n",
    "print(\"Dataset Columns:\", data.columns)\n",
    "\n",
    "# Assuming the cuisine information is stored in the 'review_full' or 'restaurant_name' column\n",
    "# Extract possible cuisines by searching for common cuisine-related words in reviews\n",
    "cuisine_keywords = [\n",
    "    \"Italian\", \"Indian\", \"Chinese\", \"Mexican\", \"Japanese\", \"Thai\", \"Mediterranean\", \"French\",\n",
    "    \"American\", \"Korean\", \"Vietnamese\", \"Spanish\", \"Lebanese\", \"Greek\", \"Turkish\"\n",
    "]\n",
    "\n",
    "# Create a helper function to check for cuisines in reviews\n",
    "def detect_cuisines(review):\n",
    "    found_cuisines = [cuisine for cuisine in cuisine_keywords if cuisine.lower() in review.lower()]\n",
    "    return found_cuisines if found_cuisines else [\"Unknown\"]\n",
    "\n",
    "# Apply the function to the review column\n",
    "data['detected_cuisines'] = data['review_full'].apply(detect_cuisines)\n",
    "\n",
    "# Count occurrences of each cuisine\n",
    "from collections import Counter\n",
    "cuisine_counts = Counter([cuisine for cuisines in data['detected_cuisines'] for cuisine in cuisines])\n",
    "\n",
    "# Display the results\n",
    "print(\"\\nDetected Cuisines and Their Counts:\")\n",
    "for cuisine, count in cuisine_counts.items():\n",
    "    print(f\"{cuisine}: {count}\")\n",
    "\n",
    "# Save results to a CSV for demo purposes\n",
    "cuisine_summary = pd.DataFrame(cuisine_counts.items(), columns=[\"Cuisine\", \"Count\"])\n",
    "cuisine_summary.sort_values(by=\"Count\", ascending=False, inplace=True)\n",
    "cuisine_summary.to_csv(\"../outputs/cuisine_summary.csv\", index=False)\n",
    "print(\"\\nCuisine summary saved as 'cuisine_summary.csv'\")\n"
   ]
  },
  {
   "cell_type": "code",
   "execution_count": null,
   "id": "e9eb791d-3474-4683-866c-d27b9c1f889a",
   "metadata": {},
   "outputs": [],
   "source": []
  }
 ],
 "metadata": {
  "kernelspec": {
   "display_name": "Python (textanalytics_env)",
   "language": "python",
   "name": "textanalytics_env"
  },
  "language_info": {
   "codemirror_mode": {
    "name": "ipython",
    "version": 3
   },
   "file_extension": ".py",
   "mimetype": "text/x-python",
   "name": "python",
   "nbconvert_exporter": "python",
   "pygments_lexer": "ipython3",
   "version": "3.10.15"
  }
 },
 "nbformat": 4,
 "nbformat_minor": 5
}
