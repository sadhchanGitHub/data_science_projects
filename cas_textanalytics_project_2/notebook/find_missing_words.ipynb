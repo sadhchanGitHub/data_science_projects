{
 "cells": [
  {
   "cell_type": "code",
   "execution_count": 11,
   "id": "9ab60cba-2a90-4d48-9dd2-8e54e74778c0",
   "metadata": {},
   "outputs": [
    {
     "name": "stdout",
     "output_type": "stream",
     "text": [
      "Index(['restaurant_name', 'rating_review', 'sample', 'review_id',\n",
      "       'title_review', 'review_preview', 'review_full', 'date', 'city',\n",
      "       'url_restaurant', 'author_id', 'review_length', 'cleaned_review',\n",
      "       'review_no_restaurant'],\n",
      "      dtype='object')\n"
     ]
    }
   ],
   "source": [
    "import pandas as pd\n",
    "import re\n",
    "\n",
    "def find_missing_word_rows(data, missing_words, review_column='cleaned_review', restaurant_column='restaurant_name'):\n",
    "    \"\"\"\n",
    "    Find rows containing missing words in the specified review column and log restaurant names.\n",
    "    \n",
    "    Args:\n",
    "    - data: DataFrame, dataset containing the reviews.\n",
    "    - missing_words: list, words missing in the embedding matrix.\n",
    "    - review_column: str, column name for review text.\n",
    "    - restaurant_column: str, column name for restaurant names.\n",
    "    \n",
    "    Returns:\n",
    "    - word_to_rows: dict, mapping of missing words to row indices, review text, and restaurant names.\n",
    "    \"\"\"\n",
    "    word_to_rows = {}\n",
    "    for word in missing_words:\n",
    "        rows = data[data[review_column].str.contains(rf'\\b{re.escape(word)}\\b', case=False, na=False)]\n",
    "        word_to_rows[word] = rows[[restaurant_column, review_column]].to_dict('index')  # Capture both columns\n",
    "    return word_to_rows\n",
    "\n",
    "df_cleanreview_nonames = pd.read_csv(\"../data/New_York_reviews_with_no_restaurantname_in_Review.csv\")\n",
    "print(df_cleanreview_nonames.columns)\n",
    "\n",
    "\n",
    "\n",
    "# Call the function\n",
    "missing_words = ['<UNK>', 'chatwal', 'masalawala']  # Replace with actual missing words\n",
    "word_to_rows_mapping = find_missing_word_rows(df_cleanreview_nonames, missing_words)\n",
    "\n",
    "# Save the mapping to a log file\n",
    "with open('../logs/missing_word_rows_with_restaurant.log', 'w') as log_file:\n",
    "    for word, rows in word_to_rows_mapping.items():\n",
    "        log_file.write(f\"\\nWord: {word}\\n\")\n",
    "        for idx, content in rows.items():\n",
    "            log_file.write(f\"Row {idx} | Restaurant: {content['restaurant_name']} | Review: {content['cleaned_review']}\\n\")\n",
    "\n",
    "\n",
    "\n",
    "\n",
    "\n",
    "\n"
   ]
  },
  {
   "cell_type": "code",
   "execution_count": 13,
   "id": "6031f818-98ce-4af3-85ff-6015be2116e2",
   "metadata": {},
   "outputs": [
    {
     "name": "stdout",
     "output_type": "stream",
     "text": [
      "Row Content:\n",
      " restaurant_name                                       Benjamin_Steakhouse\n",
      "rating_review                                                           5\n",
      "sample                                                           Positive\n",
      "review_id                                                review_132679649\n",
      "title_review                       Barney & Fred would feel @ home here!!\n",
      "review_preview          The Chatwal Hotel Suggested this to us.A typic...\n",
      "review_full             The Chatwal Hotel Suggested this to us. A typi...\n",
      "date                                                        June 24, 2012\n",
      "city                                               New_York_City_New_York\n",
      "url_restaurant          https://www.tripadvisor.com/Restaurant_Review-...\n",
      "author_id                                                       UID_27717\n",
      "review_length                                                         759\n",
      "cleaned_review          chatwal hotel suggested typical new york steak...\n",
      "review_no_restaurant    chatwal hotel suggested typical new york steak...\n",
      "Name: 32116, dtype: object\n"
     ]
    }
   ],
   "source": [
    "# Replace 32116 with the desired row number\n",
    "row_number = 32116\n",
    "specific_row = df_cleanreview_nonames.iloc[row_number]\n",
    "\n",
    "# Display the row content\n",
    "print(\"Row Content:\\n\", specific_row)\n"
   ]
  },
  {
   "cell_type": "code",
   "execution_count": null,
   "id": "1ce08195-906c-49e1-8543-9c8f0f4bff4c",
   "metadata": {},
   "outputs": [],
   "source": []
  }
 ],
 "metadata": {
  "kernelspec": {
   "display_name": "Python (textanalytics_env)",
   "language": "python",
   "name": "textanalytics_env"
  },
  "language_info": {
   "codemirror_mode": {
    "name": "ipython",
    "version": 3
   },
   "file_extension": ".py",
   "mimetype": "text/x-python",
   "name": "python",
   "nbconvert_exporter": "python",
   "pygments_lexer": "ipython3",
   "version": "3.10.15"
  }
 },
 "nbformat": 4,
 "nbformat_minor": 5
}
